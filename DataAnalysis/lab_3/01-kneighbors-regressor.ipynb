{
 "cells": [
  {
   "cell_type": "code",
   "execution_count": 2,
   "metadata": {
    "collapsed": true
   },
   "outputs": [],
   "source": [
    "import statistics\n",
    "\n",
    "import numpy as np\n",
    "import pandas as pd\n",
    "import matplotlib.pyplot as plt\n",
    "\n",
    "from sklearn.neighbors import KNeighborsRegressor\n",
    "from sklearn.preprocessing import OneHotEncoder\n",
    "\n",
    "from sklearn.model_selection import train_test_split\n",
    "from sklearn.preprocessing import StandardScaler"
   ]
  },
  {
   "cell_type": "code",
   "execution_count": 5,
   "outputs": [
    {
     "name": "stdout",
     "output_type": "stream",
     "text": [
      "0.4937016357183619\n"
     ]
    }
   ],
   "source": [
    "train = pd.read_csv('data/train.csv')\n",
    "\n",
    "rubric_mapping = dict(\n",
    "    zip(\n",
    "        pd.unique(train.rubrics),\n",
    "        np.arange(0, len(pd.unique(train.rubrics)))\n",
    "    )\n",
    ")\n",
    "city_mapping = {'msk': 0, 'spb': 1}\n",
    "\n",
    "train.rubrics = train.rubrics.apply(lambda it: rubric_mapping[it])\n",
    "train.user_city = train.user_city.apply(lambda it: city_mapping[it])\n",
    "train.org_city = train.org_city.apply(lambda it: city_mapping[it])\n",
    "\n",
    "mean = train.average_bill.mean()\n",
    "train.average_bill.fillna(mean, inplace=True)\n",
    "train.fillna(method='ffill', inplace=True)\n",
    "\n",
    "# All columns except ration_org, user_id, org_id\n",
    "# Eq to train.drop(['user_id', 'org_id', 'user_city'], axis=1, inplace=True)\n",
    "columns = ['rating', 'cafe', 'toilet_for_disabled', 'parking_disabled', 'payment_by_credit_card', 'automatic_door', 'wheelchair_access', 'car_park', 'craft_beer', 'gift_certificate', 'food_delivery', 'sports_broadcasts', 'privilege_tickets', 'projector', 'wi_fi', 'food_product_delivery', 'karaoke', 'free_delivery', 'farm_products', 'self_service_kiosks', 'organic_food', 'minimum_order', 'table_games', 'promotions', 'takeaway', 'elevator_wheelchair_accessible', 'average_bill', 'music', 'vip_zone', 'delivery', 'face_control', 'dancefloor', 'show_program', 'rubrics', 'food_court1', 'dress_code', 'coffee_to_go', 'chillout', 'air_conditioning', 'elevator', 'internet access', 'strip', 'wheelchair_accessible', 'handmade_goods', 'pickup', 'has_bar', 'hall_capacity', 'around_the_clock_work1', 'call_button', 'summer_terrace', 'ramp', 'teahouse', 'pets', 'coffee_shop', 'kalyan', 'billiards', 'org_city', 'has_restaurant', 'cakes_for_different_occasions', 'accepted_credit_cards', 'online_takeaway', 'bread_from_tandoor', 'business_lunch', 'user_city', 'vinotheque', 'special_menu', 'closed_for_quarantine', 'breakfast']\n",
    "\n",
    "x = train[columns]\n",
    "\n",
    "x = StandardScaler().fit_transform(x)\n",
    "\n",
    "y = np.array(train.rating_org)\n",
    "\n",
    "x_train, x_test, y_train, y_test = train_test_split(x, y, test_size=0.25)\n",
    "model = KNeighborsRegressor(n_neighbors=15, weights='distance', p=1)\n",
    "# model.fit(x, y) # For forecasting\n",
    "\n",
    "model.fit(x_train, y_train)\n",
    "print(model.score(x_test, y_test))"
   ],
   "metadata": {
    "collapsed": false
   }
  },
  {
   "cell_type": "code",
   "execution_count": null,
   "outputs": [],
   "source": [
    "m = dict(zip(train.org_id, train.rating_org))\n",
    "\n",
    "# Forecast\n",
    "test = pd.read_csv('data/test_x.csv')\n",
    "\n",
    "mean = test.average_bill.mean()\n",
    "test.average_bill.fillna(mean, inplace=True)\n",
    "train.fillna(method='ffill', inplace=True)\n",
    "\n",
    "test.rubrics = test.rubrics.apply(lambda it: rubric_mapping[it])\n",
    "test.user_city = test.user_city.apply(lambda it: city_mapping[it])\n",
    "test.org_city = test.org_city.apply(lambda it: city_mapping[it])\n",
    "x = test[columns]\n",
    "x = StandardScaler().fit_transform(x)\n",
    "\n",
    "predicted = model.predict(x)\n",
    "for i in range(len(predicted)):\n",
    "    if test.loc(i)['org_id'] in m:\n",
    "        predicted[i] = m[test.loc(i).org_id]\n",
    "res = pd.DataFrame(data=predicted, columns=['rating_org'])\n",
    "res.index.name = 'id'\n",
    "\n",
    "res.to_csv('res.csv')"
   ],
   "metadata": {
    "collapsed": false,
    "pycharm": {
     "is_executing": true
    }
   }
  },
  {
   "cell_type": "code",
   "execution_count": 69,
   "outputs": [],
   "source": [
    "for i in range(len(predicted)):\n",
    "    org_id = test.loc[[i]]['org_id'].values[0]\n",
    "    if org_id in m:\n",
    "        predicted[i] = m[org_id]\n",
    "res = pd.DataFrame(data=predicted, columns=['rating_org'])\n",
    "res.index.name = 'id'\n",
    "\n",
    "res.to_csv('res1.csv')"
   ],
   "metadata": {
    "collapsed": false
   }
  },
  {
   "cell_type": "code",
   "execution_count": 53,
   "outputs": [
    {
     "name": "stdout",
     "output_type": "stream",
     "text": [
      "5 0.43311401676652095\n",
      "15 0.46408270446943334\n",
      "25 0.4506061212105025\n",
      "35 0.41840321766230515\n",
      "45 0.42401401520148285\n",
      "55 0.4064378280519142\n",
      "65 0.40769890213555604\n",
      "75 0.4162430132728524\n"
     ]
    },
    {
     "ename": "KeyboardInterrupt",
     "evalue": "",
     "output_type": "error",
     "traceback": [
      "\u001B[1;31m---------------------------------------------------------------------------\u001B[0m",
      "\u001B[1;31mKeyboardInterrupt\u001B[0m                         Traceback (most recent call last)",
      "Cell \u001B[1;32mIn [53], line 5\u001B[0m\n\u001B[0;32m      3\u001B[0m model \u001B[38;5;241m=\u001B[39m KNeighborsRegressor(n_neighbors\u001B[38;5;241m=\u001B[39mi, weights\u001B[38;5;241m=\u001B[39m\u001B[38;5;124m'\u001B[39m\u001B[38;5;124mdistance\u001B[39m\u001B[38;5;124m'\u001B[39m, p\u001B[38;5;241m=\u001B[39m\u001B[38;5;241m1\u001B[39m)\n\u001B[0;32m      4\u001B[0m model\u001B[38;5;241m.\u001B[39mfit(x_train, y_train)\n\u001B[1;32m----> 5\u001B[0m \u001B[38;5;28mprint\u001B[39m(i, \u001B[43mmodel\u001B[49m\u001B[38;5;241;43m.\u001B[39;49m\u001B[43mscore\u001B[49m\u001B[43m(\u001B[49m\u001B[43mx_test\u001B[49m\u001B[43m,\u001B[49m\u001B[43m \u001B[49m\u001B[43my_test\u001B[49m\u001B[43m)\u001B[49m)\n",
      "File \u001B[1;32m~\\.virtualenvs\\lab_3-X-YUshKi\\lib\\site-packages\\sklearn\\base.py:720\u001B[0m, in \u001B[0;36mRegressorMixin.score\u001B[1;34m(self, X, y, sample_weight)\u001B[0m\n\u001B[0;32m    678\u001B[0m \u001B[38;5;124;03m\"\"\"Return the coefficient of determination of the prediction.\u001B[39;00m\n\u001B[0;32m    679\u001B[0m \n\u001B[0;32m    680\u001B[0m \u001B[38;5;124;03mThe coefficient of determination :math:`R^2` is defined as\u001B[39;00m\n\u001B[1;32m   (...)\u001B[0m\n\u001B[0;32m    715\u001B[0m \u001B[38;5;124;03m:class:`~sklearn.multioutput.MultiOutputRegressor`).\u001B[39;00m\n\u001B[0;32m    716\u001B[0m \u001B[38;5;124;03m\"\"\"\u001B[39;00m\n\u001B[0;32m    718\u001B[0m \u001B[38;5;28;01mfrom\u001B[39;00m \u001B[38;5;21;01m.\u001B[39;00m\u001B[38;5;21;01mmetrics\u001B[39;00m \u001B[38;5;28;01mimport\u001B[39;00m r2_score\n\u001B[1;32m--> 720\u001B[0m y_pred \u001B[38;5;241m=\u001B[39m \u001B[38;5;28;43mself\u001B[39;49m\u001B[38;5;241;43m.\u001B[39;49m\u001B[43mpredict\u001B[49m\u001B[43m(\u001B[49m\u001B[43mX\u001B[49m\u001B[43m)\u001B[49m\n\u001B[0;32m    721\u001B[0m \u001B[38;5;28;01mreturn\u001B[39;00m r2_score(y, y_pred, sample_weight\u001B[38;5;241m=\u001B[39msample_weight)\n",
      "File \u001B[1;32m~\\.virtualenvs\\lab_3-X-YUshKi\\lib\\site-packages\\sklearn\\neighbors\\_regression.py:232\u001B[0m, in \u001B[0;36mKNeighborsRegressor.predict\u001B[1;34m(self, X)\u001B[0m\n\u001B[0;32m    230\u001B[0m     neigh_dist \u001B[38;5;241m=\u001B[39m \u001B[38;5;28;01mNone\u001B[39;00m\n\u001B[0;32m    231\u001B[0m \u001B[38;5;28;01melse\u001B[39;00m:\n\u001B[1;32m--> 232\u001B[0m     neigh_dist, neigh_ind \u001B[38;5;241m=\u001B[39m \u001B[38;5;28;43mself\u001B[39;49m\u001B[38;5;241;43m.\u001B[39;49m\u001B[43mkneighbors\u001B[49m\u001B[43m(\u001B[49m\u001B[43mX\u001B[49m\u001B[43m)\u001B[49m\n\u001B[0;32m    234\u001B[0m weights \u001B[38;5;241m=\u001B[39m _get_weights(neigh_dist, \u001B[38;5;28mself\u001B[39m\u001B[38;5;241m.\u001B[39mweights)\n\u001B[0;32m    236\u001B[0m _y \u001B[38;5;241m=\u001B[39m \u001B[38;5;28mself\u001B[39m\u001B[38;5;241m.\u001B[39m_y\n",
      "File \u001B[1;32m~\\.virtualenvs\\lab_3-X-YUshKi\\lib\\site-packages\\sklearn\\neighbors\\_base.py:763\u001B[0m, in \u001B[0;36mKNeighborsMixin.kneighbors\u001B[1;34m(self, X, n_neighbors, return_distance)\u001B[0m\n\u001B[0;32m    756\u001B[0m use_pairwise_distances_reductions \u001B[38;5;241m=\u001B[39m (\n\u001B[0;32m    757\u001B[0m     \u001B[38;5;28mself\u001B[39m\u001B[38;5;241m.\u001B[39m_fit_method \u001B[38;5;241m==\u001B[39m \u001B[38;5;124m\"\u001B[39m\u001B[38;5;124mbrute\u001B[39m\u001B[38;5;124m\"\u001B[39m\n\u001B[0;32m    758\u001B[0m     \u001B[38;5;129;01mand\u001B[39;00m PairwiseDistancesArgKmin\u001B[38;5;241m.\u001B[39mis_usable_for(\n\u001B[0;32m    759\u001B[0m         X \u001B[38;5;28;01mif\u001B[39;00m X \u001B[38;5;129;01mis\u001B[39;00m \u001B[38;5;129;01mnot\u001B[39;00m \u001B[38;5;28;01mNone\u001B[39;00m \u001B[38;5;28;01melse\u001B[39;00m \u001B[38;5;28mself\u001B[39m\u001B[38;5;241m.\u001B[39m_fit_X, \u001B[38;5;28mself\u001B[39m\u001B[38;5;241m.\u001B[39m_fit_X, \u001B[38;5;28mself\u001B[39m\u001B[38;5;241m.\u001B[39meffective_metric_\n\u001B[0;32m    760\u001B[0m     )\n\u001B[0;32m    761\u001B[0m )\n\u001B[0;32m    762\u001B[0m \u001B[38;5;28;01mif\u001B[39;00m use_pairwise_distances_reductions:\n\u001B[1;32m--> 763\u001B[0m     results \u001B[38;5;241m=\u001B[39m \u001B[43mPairwiseDistancesArgKmin\u001B[49m\u001B[38;5;241;43m.\u001B[39;49m\u001B[43mcompute\u001B[49m\u001B[43m(\u001B[49m\n\u001B[0;32m    764\u001B[0m \u001B[43m        \u001B[49m\u001B[43mX\u001B[49m\u001B[38;5;241;43m=\u001B[39;49m\u001B[43mX\u001B[49m\u001B[43m,\u001B[49m\n\u001B[0;32m    765\u001B[0m \u001B[43m        \u001B[49m\u001B[43mY\u001B[49m\u001B[38;5;241;43m=\u001B[39;49m\u001B[38;5;28;43mself\u001B[39;49m\u001B[38;5;241;43m.\u001B[39;49m\u001B[43m_fit_X\u001B[49m\u001B[43m,\u001B[49m\n\u001B[0;32m    766\u001B[0m \u001B[43m        \u001B[49m\u001B[43mk\u001B[49m\u001B[38;5;241;43m=\u001B[39;49m\u001B[43mn_neighbors\u001B[49m\u001B[43m,\u001B[49m\n\u001B[0;32m    767\u001B[0m \u001B[43m        \u001B[49m\u001B[43mmetric\u001B[49m\u001B[38;5;241;43m=\u001B[39;49m\u001B[38;5;28;43mself\u001B[39;49m\u001B[38;5;241;43m.\u001B[39;49m\u001B[43meffective_metric_\u001B[49m\u001B[43m,\u001B[49m\n\u001B[0;32m    768\u001B[0m \u001B[43m        \u001B[49m\u001B[43mmetric_kwargs\u001B[49m\u001B[38;5;241;43m=\u001B[39;49m\u001B[38;5;28;43mself\u001B[39;49m\u001B[38;5;241;43m.\u001B[39;49m\u001B[43meffective_metric_params_\u001B[49m\u001B[43m,\u001B[49m\n\u001B[0;32m    769\u001B[0m \u001B[43m        \u001B[49m\u001B[43mstrategy\u001B[49m\u001B[38;5;241;43m=\u001B[39;49m\u001B[38;5;124;43m\"\u001B[39;49m\u001B[38;5;124;43mauto\u001B[39;49m\u001B[38;5;124;43m\"\u001B[39;49m\u001B[43m,\u001B[49m\n\u001B[0;32m    770\u001B[0m \u001B[43m        \u001B[49m\u001B[43mreturn_distance\u001B[49m\u001B[38;5;241;43m=\u001B[39;49m\u001B[43mreturn_distance\u001B[49m\u001B[43m,\u001B[49m\n\u001B[0;32m    771\u001B[0m \u001B[43m    \u001B[49m\u001B[43m)\u001B[49m\n\u001B[0;32m    773\u001B[0m \u001B[38;5;28;01melif\u001B[39;00m (\n\u001B[0;32m    774\u001B[0m     \u001B[38;5;28mself\u001B[39m\u001B[38;5;241m.\u001B[39m_fit_method \u001B[38;5;241m==\u001B[39m \u001B[38;5;124m\"\u001B[39m\u001B[38;5;124mbrute\u001B[39m\u001B[38;5;124m\"\u001B[39m \u001B[38;5;129;01mand\u001B[39;00m \u001B[38;5;28mself\u001B[39m\u001B[38;5;241m.\u001B[39mmetric \u001B[38;5;241m==\u001B[39m \u001B[38;5;124m\"\u001B[39m\u001B[38;5;124mprecomputed\u001B[39m\u001B[38;5;124m\"\u001B[39m \u001B[38;5;129;01mand\u001B[39;00m issparse(X)\n\u001B[0;32m    775\u001B[0m ):\n\u001B[0;32m    776\u001B[0m     results \u001B[38;5;241m=\u001B[39m _kneighbors_from_graph(\n\u001B[0;32m    777\u001B[0m         X, n_neighbors\u001B[38;5;241m=\u001B[39mn_neighbors, return_distance\u001B[38;5;241m=\u001B[39mreturn_distance\n\u001B[0;32m    778\u001B[0m     )\n",
      "File \u001B[1;32msklearn\\metrics\\_pairwise_distances_reduction.pyx:698\u001B[0m, in \u001B[0;36msklearn.metrics._pairwise_distances_reduction.PairwiseDistancesArgKmin.compute\u001B[1;34m()\u001B[0m\n",
      "File \u001B[1;32m~\\.virtualenvs\\lab_3-X-YUshKi\\lib\\site-packages\\threadpoolctl.py:171\u001B[0m, in \u001B[0;36m_ThreadpoolLimiter.__exit__\u001B[1;34m(self, type, value, traceback)\u001B[0m\n\u001B[0;32m    168\u001B[0m \u001B[38;5;28;01mdef\u001B[39;00m \u001B[38;5;21m__enter__\u001B[39m(\u001B[38;5;28mself\u001B[39m):\n\u001B[0;32m    169\u001B[0m     \u001B[38;5;28;01mreturn\u001B[39;00m \u001B[38;5;28mself\u001B[39m\n\u001B[1;32m--> 171\u001B[0m \u001B[38;5;28;01mdef\u001B[39;00m \u001B[38;5;21m__exit__\u001B[39m(\u001B[38;5;28mself\u001B[39m, \u001B[38;5;28mtype\u001B[39m, value, traceback):\n\u001B[0;32m    172\u001B[0m     \u001B[38;5;28mself\u001B[39m\u001B[38;5;241m.\u001B[39mrestore_original_limits()\n\u001B[0;32m    174\u001B[0m \u001B[38;5;129m@classmethod\u001B[39m\n\u001B[0;32m    175\u001B[0m \u001B[38;5;28;01mdef\u001B[39;00m \u001B[38;5;21mwrap\u001B[39m(\u001B[38;5;28mcls\u001B[39m, controller, \u001B[38;5;241m*\u001B[39m, limits\u001B[38;5;241m=\u001B[39m\u001B[38;5;28;01mNone\u001B[39;00m, user_api\u001B[38;5;241m=\u001B[39m\u001B[38;5;28;01mNone\u001B[39;00m):\n",
      "\u001B[1;31mKeyboardInterrupt\u001B[0m: "
     ]
    }
   ],
   "source": [
    "for i in range(5, 151, 10):\n",
    "    x_train, x_test, y_train, y_test = train_test_split(x, y, test_size=0.25)\n",
    "    model = KNeighborsRegressor(n_neighbors=i, weights='distance', p=1)\n",
    "    model.fit(x_train, y_train)\n",
    "    print(i, model.score(x_test, y_test))"
   ],
   "metadata": {
    "collapsed": false
   }
  },
  {
   "cell_type": "code",
   "execution_count": 31,
   "outputs": [
    {
     "name": "stdout",
     "output_type": "stream",
     "text": [
      "(1.0, 'rating_org')\n",
      "(0.26938566457672053, 'rating')\n",
      "(0.18106242489469343, 'cafe')\n",
      "(0.17395829887074368, 'toilet_for_disabled')\n",
      "(0.1671703649173784, 'parking_disabled')\n",
      "(0.15441921200341907, 'payment_by_credit_card')\n",
      "(0.1509087031367268, 'automatic_door')\n",
      "(0.12164157745155518, 'wheelchair_access')\n",
      "(0.11900108868728286, 'car_park')\n",
      "(0.11885634572520054, 'craft_beer')\n",
      "(0.11683452627838627, 'gift_certificate')\n",
      "(0.10504731442044699, 'food_delivery')\n",
      "(0.09534192220789597, 'sports_broadcasts')\n",
      "(0.08717623826293669, 'privilege_tickets')\n",
      "(0.08305640925384583, 'projector')\n",
      "(0.0774971120122276, 'wi_fi')\n",
      "(0.07450391589699248, 'food_product_delivery')\n",
      "(0.07241811167265204, 'karaoke')\n",
      "(0.07233240804877296, 'free_delivery')\n",
      "(0.0691389788971624, 'farm_products')\n",
      "(0.06855454481107333, 'self_service_kiosks')\n",
      "(0.06783362050587999, 'organic_food')\n",
      "(0.06589007226339627, 'minimum_order')\n",
      "(0.0621485716191968, 'table_games')\n",
      "(0.06062042112063336, 'promotions')\n",
      "(0.05883952998608158, 'takeaway')\n",
      "(0.05715463832579088, 'elevator_wheelchair_accessible')\n",
      "(0.05267704044258473, 'average_bill')\n",
      "(0.05038254357607071, 'music')\n",
      "(0.04619977528790904, 'vip_zone')\n",
      "(0.04609466276042465, 'delivery')\n",
      "(0.044516611446422494, 'face_control')\n",
      "(0.04244774007403153, 'dancefloor')\n",
      "(0.04145109051881054, 'show_program')\n",
      "(0.040647196037789636, 'ts')\n",
      "(0.04059642477756101, 'rubrics')\n",
      "(0.03947864806014182, 'food_court1')\n",
      "(0.038210826863064394, 'dress_code')\n",
      "(0.03664195311616863, 'coffee_to_go')\n",
      "(0.03615282659724708, 'chillout')\n",
      "(0.031579554171006434, 'air_conditioning')\n",
      "(0.030715011201062337, 'elevator')\n",
      "(0.030668793885996255, 'internet access')\n",
      "(0.029618048284524492, 'strip')\n",
      "(0.029266566142306598, 'wheelchair_accessible')\n",
      "(0.028334473598387293, 'handmade_goods')\n",
      "(0.028126680594885534, 'pickup')\n",
      "(0.027675386342477255, 'has_bar')\n",
      "(0.026612800793149136, 'hall_capacity')\n",
      "(0.02483942470654398, 'around_the_clock_work1')\n",
      "(0.022987553442170634, 'call_button')\n",
      "(0.02290753445517365, 'summer_terrace')\n",
      "(0.0228830406850208, 'ramp')\n",
      "(0.02262693264887762, 'teahouse')\n",
      "(0.021808618389425792, 'org_id')\n",
      "(0.021791001509731713, 'pets')\n",
      "(0.02115715648163667, 'coffee_shop')\n",
      "(0.01914761416828146, 'kalyan')\n",
      "(0.019085940764953423, 'billiards')\n",
      "(0.016731712300337126, 'org_city')\n",
      "(0.0161240290584688, 'has_restaurant')\n",
      "(0.016011417527478634, 'cakes_for_different_occasions')\n",
      "(0.015476458294610342, 'accepted_credit_cards')\n",
      "(0.014431439843639296, 'online_takeaway')\n",
      "(0.01432285290482702, 'bread_from_tandoor')\n",
      "(0.009318351177627445, 'business_lunch')\n",
      "(0.008276866859358575, 'user_city')\n",
      "(0.007476949555412007, 'vinotheque')\n",
      "(0.00658488570801153, 'special_menu')\n",
      "(0.004119463152441426, 'user_id')\n",
      "(0.0023779457353327316, 'closed_for_quarantine')\n",
      "(0.0013487347354484555, 'breakfast')\n",
      "['rating', 'cafe', 'toilet_for_disabled', 'parking_disabled', 'payment_by_credit_card', 'automatic_door', 'wheelchair_access', 'car_park', 'craft_beer', 'gift_certificate', 'food_delivery', 'sports_broadcasts', 'privilege_tickets', 'projector', 'wi_fi', 'food_product_delivery', 'karaoke', 'free_delivery', 'farm_products', 'self_service_kiosks', 'organic_food', 'minimum_order', 'table_games', 'promotions', 'takeaway', 'elevator_wheelchair_accessible', 'average_bill', 'music', 'vip_zone', 'delivery', 'face_control', 'dancefloor', 'show_program', 'ts', 'rubrics', 'food_court1', 'dress_code', 'coffee_to_go', 'chillout', 'air_conditioning', 'elevator', 'internet access', 'strip', 'wheelchair_accessible', 'handmade_goods', 'pickup', 'has_bar', 'hall_capacity', 'around_the_clock_work1', 'call_button', 'summer_terrace', 'ramp', 'teahouse', 'pets', 'coffee_shop', 'kalyan', 'billiards', 'org_city', 'has_restaurant', 'cakes_for_different_occasions', 'accepted_credit_cards', 'online_takeaway', 'bread_from_tandoor', 'business_lunch', 'user_city', 'vinotheque', 'special_menu', 'closed_for_quarantine', 'breakfast']\n"
     ]
    }
   ],
   "source": [
    "import statistics\n",
    "\n",
    "cor = []\n",
    "for (columnName, columnData) in train.items():\n",
    "    coef = statistics.correlation(columnData, train.rating_org)\n",
    "    cor.append((abs(coef), columnName))\n",
    "cor.sort(reverse=True)\n",
    "print(*cor, sep='\\n')\n",
    "sortedColumns = list(map(lambda it: it[1], cor))[1:]\n",
    "sortedColumns.remove('org_id')\n",
    "sortedColumns.remove('user_id')\n",
    "print(sortedColumns)"
   ],
   "metadata": {
    "collapsed": false
   }
  },
  {
   "cell_type": "code",
   "execution_count": 30,
   "outputs": [
    {
     "name": "stdout",
     "output_type": "stream",
     "text": [
      "25 0.26990479412479895 takeaway\n",
      "26 0.24943593784338836 elevator_wheelchair_accessible\n",
      "27 0.2751223668953866 average_bill\n",
      "28 0.293816202948445 music\n",
      "29 0.2934558577552073 vip_zone\n",
      "30 0.2895926007839339 delivery\n",
      "31 0.30801263606268336 face_control\n",
      "32 0.2866205833778832 dancefloor\n",
      "33 0.2870881741957487 show_program\n",
      "34 0.29277082059913895 ts\n",
      "35 0.29803516486632575 rubrics\n",
      "36 0.2997646450946342 food_court1\n",
      "37 0.30547016397408544 dress_code\n",
      "38 0.32821640315082534 coffee_to_go\n",
      "39 0.31990584915973763 chillout\n",
      "40 0.3193461891461876 air_conditioning\n",
      "41 0.31177831734288475 elevator\n",
      "42 0.3295858611285667 internet access\n",
      "43 0.3109171586592244 strip\n",
      "44 0.3249057688336814 wheelchair_accessible\n",
      "45 0.3200984719921184 handmade_goods\n",
      "46 0.33107285740998926 pickup\n",
      "47 0.3278542153522318 has_bar\n",
      "48 0.3254866349759815 hall_capacity\n",
      "49 0.33102826993091927 around_the_clock_work1\n",
      "50 0.3299762063195736 call_button\n",
      "51 0.3268173271680861 summer_terrace\n",
      "52 0.3302351668271608 ramp\n",
      "53 0.31560160047309505 teahouse\n",
      "54 0.32109730393725466 pets\n",
      "55 0.312064285871123 coffee_shop\n",
      "56 0.330590346080467 kalyan\n",
      "57 0.3281418348179319 billiards\n",
      "58 0.3325563775147218 org_city\n",
      "59 0.32625953709909505 has_restaurant\n",
      "60 0.3454238202848544 cakes_for_different_occasions\n",
      "61 0.3347906995616119 accepted_credit_cards\n",
      "62 0.33482637867610243 online_takeaway\n",
      "63 0.3590335450838126 bread_from_tandoor\n",
      "64 0.3601081824846035 business_lunch\n",
      "65 0.3431862163405003 user_city\n",
      "66 0.3390744590292851 vinotheque\n",
      "67 0.3435547901021506 special_menu\n",
      "68 0.34249381645992216 user_id\n",
      "69 0.3519602429706763 closed_for_quarantine\n"
     ]
    }
   ],
   "source": [
    "train = pd.read_csv('data/train.csv')\n",
    "\n",
    "rubric_mapping = dict(\n",
    "    zip(\n",
    "        pd.unique(train.rubrics),\n",
    "        np.arange(0, len(pd.unique(train.rubrics)))\n",
    "    )\n",
    ")\n",
    "train.rubrics = train.rubrics.apply(lambda it: rubric_mapping[it])\n",
    "\n",
    "city_mapping = {'msk': 0, 'spb': 1}\n",
    "train.user_city = train.user_city.apply(lambda it: city_mapping[it])\n",
    "train.org_city = train.org_city.apply(lambda it: city_mapping[it])\n",
    "\n",
    "mean = train.average_bill.mean()\n",
    "train.average_bill.fillna(mean, inplace=True)\n",
    "\n",
    "\n",
    "\n",
    "y = np.array(train.rating_org)\n",
    "\n",
    "model = KNeighborsRegressor(n_neighbors=20, weights='uniform', p=2)\n",
    "\n",
    "train[train.columns] = StandardScaler().fit_transform(train[train.columns])\n",
    "\n",
    "for i in range(25, len(sortedColumns)):\n",
    "    columns = sortedColumns[:i]\n",
    "    x = train[columns]\n",
    "    x_train, x_test, y_train, y_test = train_test_split(x, y, test_size=0.25)\n",
    "    model.fit(x_train, y_train)\n",
    "    print(i, model.score(x_test, y_test), columns[-1])"
   ],
   "metadata": {
    "collapsed": false
   }
  },
  {
   "cell_type": "markdown",
   "source": [
    "## Как это работает?\n",
    "\n",
    "Выбираем точку u и подбираем для неё категорию тета.\n",
    "\n",
    "![title](img.png)"
   ],
   "metadata": {
    "collapsed": false
   }
  },
  {
   "cell_type": "code",
   "execution_count": 32,
   "outputs": [
    {
     "name": "stdout",
     "output_type": "stream",
     "text": [
      "0.18302552217094348\n"
     ]
    }
   ],
   "source": [
    "train = pd.read_csv('data/train.csv')\n",
    "train.drop(['user_id', 'org_id'], axis=1, inplace=True)\n",
    "train.fillna(method='ffill', inplace=True)\n",
    "\n",
    "ohe = OneHotEncoder()\n",
    "transformedRubrics = ohe.fit_transform(train[['rubrics']])\n",
    "rubricsCategories = ohe.categories_[0]\n",
    "train[rubricsCategories] = transformedRubrics.toarray()\n",
    "\n",
    "ohe = OneHotEncoder()\n",
    "transformedOrgCity = ohe.fit_transform(train[['org_city']])\n",
    "orgCityCategories = ohe.categories_[0]\n",
    "train[orgCityCategories] = transformedOrgCity.toarray()\n",
    "\n",
    "columns = ['rating', 'average_bill', 'payment_by_credit_card', 'wi_fi', 'cafe', 'has_bar', 'internet access', 'music', 'delivery', 'kalyan']\n",
    "columns += rubricsCategories.tolist()\n",
    "columns += orgCityCategories.tolist()\n",
    "x = train[columns]\n",
    "\n",
    "y = np.array(train.rating_org)\n",
    "\n",
    "model = KNeighborsRegressor(n_neighbors=100, weights='uniform', p=2)\n",
    "x_train, x_test, y_train, y_test = train_test_split(x, y, test_size=0.25)\n",
    "model.fit(x_train, y_train)\n",
    "\n",
    "print(model.score(x_test, y_test))\n",
    "\n",
    "\n",
    "test = pd.read_csv('data/test_x.csv')\n",
    "test.drop(['user_id', 'org_id'], axis=1, inplace=True)\n",
    "test.fillna(method='ffill', inplace=True)\n",
    "\n",
    "ohe = OneHotEncoder()\n",
    "transformedRubrics = ohe.fit_transform(test[['rubrics']])\n",
    "rubricsCategories = ohe.categories_[0]\n",
    "test[rubricsCategories] = transformedRubrics.toarray()\n",
    "\n",
    "ohe = OneHotEncoder()\n",
    "transformedOrgCity = ohe.fit_transform(test[['org_city']])\n",
    "orgCityCategories = ohe.categories_[0]\n",
    "test[orgCityCategories] = transformedOrgCity.toarray()\n",
    "\n",
    "test = test[columns]\n",
    "\n",
    "predicted = model.predict(test)\n",
    "res = pd.DataFrame(data=predicted, columns=['rating_org'])\n",
    "\n",
    "res.index.name = 'id'\n",
    "res.to_csv('res.csv')"
   ],
   "metadata": {
    "collapsed": false
   }
  }
 ],
 "metadata": {
  "kernelspec": {
   "display_name": "Python 3",
   "language": "python",
   "name": "python3"
  },
  "language_info": {
   "codemirror_mode": {
    "name": "ipython",
    "version": 2
   },
   "file_extension": ".py",
   "mimetype": "text/x-python",
   "name": "python",
   "nbconvert_exporter": "python",
   "pygments_lexer": "ipython2",
   "version": "2.7.6"
  }
 },
 "nbformat": 4,
 "nbformat_minor": 0
}
