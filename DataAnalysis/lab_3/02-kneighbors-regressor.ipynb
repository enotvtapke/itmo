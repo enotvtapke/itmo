{
 "cells": [
  {
   "cell_type": "code",
   "execution_count": 1,
   "metadata": {
    "collapsed": true
   },
   "outputs": [],
   "source": [
    "import statistics\n",
    "\n",
    "import numpy as np\n",
    "import pandas as pd\n",
    "import matplotlib.pyplot as plt\n",
    "\n",
    "from sklearn.neighbors import KNeighborsRegressor\n",
    "from sklearn.preprocessing import OneHotEncoder\n",
    "\n",
    "from sklearn.model_selection import train_test_split\n",
    "from sklearn.preprocessing import StandardScaler"
   ]
  },
  {
   "cell_type": "code",
   "execution_count": 2,
   "outputs": [
    {
     "data": {
      "text/plain": "KNeighborsRegressor(n_neighbors=3000, p=1)",
      "text/html": "<style>#sk-container-id-1 {color: black;background-color: white;}#sk-container-id-1 pre{padding: 0;}#sk-container-id-1 div.sk-toggleable {background-color: white;}#sk-container-id-1 label.sk-toggleable__label {cursor: pointer;display: block;width: 100%;margin-bottom: 0;padding: 0.3em;box-sizing: border-box;text-align: center;}#sk-container-id-1 label.sk-toggleable__label-arrow:before {content: \"▸\";float: left;margin-right: 0.25em;color: #696969;}#sk-container-id-1 label.sk-toggleable__label-arrow:hover:before {color: black;}#sk-container-id-1 div.sk-estimator:hover label.sk-toggleable__label-arrow:before {color: black;}#sk-container-id-1 div.sk-toggleable__content {max-height: 0;max-width: 0;overflow: hidden;text-align: left;background-color: #f0f8ff;}#sk-container-id-1 div.sk-toggleable__content pre {margin: 0.2em;color: black;border-radius: 0.25em;background-color: #f0f8ff;}#sk-container-id-1 input.sk-toggleable__control:checked~div.sk-toggleable__content {max-height: 200px;max-width: 100%;overflow: auto;}#sk-container-id-1 input.sk-toggleable__control:checked~label.sk-toggleable__label-arrow:before {content: \"▾\";}#sk-container-id-1 div.sk-estimator input.sk-toggleable__control:checked~label.sk-toggleable__label {background-color: #d4ebff;}#sk-container-id-1 div.sk-label input.sk-toggleable__control:checked~label.sk-toggleable__label {background-color: #d4ebff;}#sk-container-id-1 input.sk-hidden--visually {border: 0;clip: rect(1px 1px 1px 1px);clip: rect(1px, 1px, 1px, 1px);height: 1px;margin: -1px;overflow: hidden;padding: 0;position: absolute;width: 1px;}#sk-container-id-1 div.sk-estimator {font-family: monospace;background-color: #f0f8ff;border: 1px dotted black;border-radius: 0.25em;box-sizing: border-box;margin-bottom: 0.5em;}#sk-container-id-1 div.sk-estimator:hover {background-color: #d4ebff;}#sk-container-id-1 div.sk-parallel-item::after {content: \"\";width: 100%;border-bottom: 1px solid gray;flex-grow: 1;}#sk-container-id-1 div.sk-label:hover label.sk-toggleable__label {background-color: #d4ebff;}#sk-container-id-1 div.sk-serial::before {content: \"\";position: absolute;border-left: 1px solid gray;box-sizing: border-box;top: 0;bottom: 0;left: 50%;z-index: 0;}#sk-container-id-1 div.sk-serial {display: flex;flex-direction: column;align-items: center;background-color: white;padding-right: 0.2em;padding-left: 0.2em;position: relative;}#sk-container-id-1 div.sk-item {position: relative;z-index: 1;}#sk-container-id-1 div.sk-parallel {display: flex;align-items: stretch;justify-content: center;background-color: white;position: relative;}#sk-container-id-1 div.sk-item::before, #sk-container-id-1 div.sk-parallel-item::before {content: \"\";position: absolute;border-left: 1px solid gray;box-sizing: border-box;top: 0;bottom: 0;left: 50%;z-index: -1;}#sk-container-id-1 div.sk-parallel-item {display: flex;flex-direction: column;z-index: 1;position: relative;background-color: white;}#sk-container-id-1 div.sk-parallel-item:first-child::after {align-self: flex-end;width: 50%;}#sk-container-id-1 div.sk-parallel-item:last-child::after {align-self: flex-start;width: 50%;}#sk-container-id-1 div.sk-parallel-item:only-child::after {width: 0;}#sk-container-id-1 div.sk-dashed-wrapped {border: 1px dashed gray;margin: 0 0.4em 0.5em 0.4em;box-sizing: border-box;padding-bottom: 0.4em;background-color: white;}#sk-container-id-1 div.sk-label label {font-family: monospace;font-weight: bold;display: inline-block;line-height: 1.2em;}#sk-container-id-1 div.sk-label-container {text-align: center;}#sk-container-id-1 div.sk-container {/* jupyter's `normalize.less` sets `[hidden] { display: none; }` but bootstrap.min.css set `[hidden] { display: none !important; }` so we also need the `!important` here to be able to override the default hidden behavior on the sphinx rendered scikit-learn.org. See: https://github.com/scikit-learn/scikit-learn/issues/21755 */display: inline-block !important;position: relative;}#sk-container-id-1 div.sk-text-repr-fallback {display: none;}</style><div id=\"sk-container-id-1\" class=\"sk-top-container\"><div class=\"sk-text-repr-fallback\"><pre>KNeighborsRegressor(n_neighbors=3000, p=1)</pre><b>In a Jupyter environment, please rerun this cell to show the HTML representation or trust the notebook. <br />On GitHub, the HTML representation is unable to render, please try loading this page with nbviewer.org.</b></div><div class=\"sk-container\" hidden><div class=\"sk-item\"><div class=\"sk-estimator sk-toggleable\"><input class=\"sk-toggleable__control sk-hidden--visually\" id=\"sk-estimator-id-1\" type=\"checkbox\" checked><label for=\"sk-estimator-id-1\" class=\"sk-toggleable__label sk-toggleable__label-arrow\">KNeighborsRegressor</label><div class=\"sk-toggleable__content\"><pre>KNeighborsRegressor(n_neighbors=3000, p=1)</pre></div></div></div></div></div>"
     },
     "execution_count": 2,
     "metadata": {},
     "output_type": "execute_result"
    }
   ],
   "source": [
    "train = pd.read_csv('data/train.csv')\n",
    "\n",
    "rubric_mapping = dict(\n",
    "    zip(\n",
    "        pd.unique(train.rubrics),\n",
    "        np.arange(0, len(pd.unique(train.rubrics)))\n",
    "    )\n",
    ")\n",
    "city_mapping = {'msk': 0, 'spb': 1}\n",
    "\n",
    "train.rubrics = train.rubrics.apply(lambda it: rubric_mapping[it])\n",
    "train.user_city = train.user_city.apply(lambda it: city_mapping[it])\n",
    "train.org_city = train.org_city.apply(lambda it: city_mapping[it])\n",
    "\n",
    "mean = train.average_bill.mean()\n",
    "train.average_bill.fillna(mean, inplace=True)\n",
    "train.fillna(method='ffill', inplace=True)\n",
    "\n",
    "# All columns except ration_org, user_id, org_id\n",
    "# Eq to train.drop(['user_id', 'org_id', 'user_city'], axis=1, inplace=True)\n",
    "# columns = ['rating', 'cafe', 'toilet_for_disabled', 'parking_disabled', 'payment_by_credit_card', 'automatic_door', 'wheelchair_access', 'car_park', 'craft_beer', 'gift_certificate', 'food_delivery', 'sports_broadcasts', 'privilege_tickets', 'projector', 'wi_fi', 'food_product_delivery', 'karaoke', 'free_delivery', 'farm_products', 'self_service_kiosks', 'organic_food', 'minimum_order', 'table_games', 'promotions', 'takeaway', 'elevator_wheelchair_accessible', 'average_bill', 'music', 'vip_zone', 'delivery', 'face_control', 'dancefloor', 'show_program', 'rubrics', 'food_court1', 'dress_code', 'coffee_to_go', 'chillout', 'air_conditioning', 'elevator', 'internet access', 'strip', 'wheelchair_accessible', 'handmade_goods', 'pickup', 'has_bar', 'hall_capacity', 'around_the_clock_work1', 'call_button', 'summer_terrace', 'ramp', 'teahouse', 'pets', 'coffee_shop', 'kalyan', 'billiards', 'org_city', 'has_restaurant', 'cakes_for_different_occasions', 'accepted_credit_cards', 'online_takeaway', 'bread_from_tandoor', 'business_lunch', 'user_city', 'vinotheque', 'special_menu', 'closed_for_quarantine', 'breakfast']\n",
    "columns = ['rating']\n",
    "    # , 'cafe', 'payment_by_credit_card', 'car_park', 'wi_fi', 'music', 'rubrics']\n",
    "# , 'food_court1', 'dress_code', 'coffee_to_go', 'chillout', 'air_conditioning', 'elevator', 'internet access', 'strip', 'wheelchair_accessible', 'handmade_goods', 'pickup', 'has_bar', 'hall_capacity', 'around_the_clock_work1', 'call_button', 'summer_terrace', 'ramp', 'teahouse', 'pets', 'coffee_shop', 'kalyan', 'billiards', 'org_city', 'has_restaurant', 'cakes_for_different_occasions', 'accepted_credit_cards', 'online_takeaway', 'bread_from_tandoor', 'business_lunch', 'user_city', 'vinotheque', 'special_menu', 'closed_for_quarantine', 'breakfast']\n",
    "\n",
    "x = train[columns]\n",
    "\n",
    "y = np.array(train.rating_org)\n",
    "\n",
    "# x_train, x_test, y_train, y_test = train_test_split(x, y, test_size=0.25)\n",
    "model = KNeighborsRegressor(n_neighbors=3000, weights='uniform', p=1)\n",
    "\n",
    "model.fit(x, y)\n",
    "# print(model.score(x_test, y_test))"
   ],
   "metadata": {
    "collapsed": false
   }
  },
  {
   "cell_type": "code",
   "execution_count": 3,
   "outputs": [],
   "source": [
    "# m = dict(zip(train.org_id, train.rating_org))\n",
    "\n",
    "# Forecast\n",
    "test = pd.read_csv('data/test_x.csv')\n",
    "\n",
    "mean = test.average_bill.mean()\n",
    "test.average_bill.fillna(mean, inplace=True)\n",
    "test.fillna(method='ffill', inplace=True)\n",
    "\n",
    "test.rubrics = test.rubrics.apply(lambda it: rubric_mapping[it])\n",
    "test.user_city = test.user_city.apply(lambda it: city_mapping[it])\n",
    "test.org_city = test.org_city.apply(lambda it: city_mapping[it])\n",
    "x = test[columns]\n",
    "# x = StandardScaler().fit_transform(x)\n",
    "\n",
    "predicted = model.predict(x)\n",
    "# for i in range(len(predicted)):\n",
    "#     if test.loc(i)['org_id'] in m:\n",
    "#         predicted[i] = m[test.loc(i).org_id]\n",
    "res = pd.DataFrame(data=predicted, columns=['rating_org'])\n",
    "res.index.name = 'id'\n",
    "\n",
    "res.to_csv('res.csv')"
   ],
   "metadata": {
    "collapsed": false
   }
  },
  {
   "cell_type": "code",
   "execution_count": 4,
   "outputs": [
    {
     "ename": "NameError",
     "evalue": "name 'm' is not defined",
     "output_type": "error",
     "traceback": [
      "\u001B[1;31m---------------------------------------------------------------------------\u001B[0m",
      "\u001B[1;31mNameError\u001B[0m                                 Traceback (most recent call last)",
      "Cell \u001B[1;32mIn [4], line 3\u001B[0m\n\u001B[0;32m      1\u001B[0m \u001B[38;5;28;01mfor\u001B[39;00m i \u001B[38;5;129;01min\u001B[39;00m \u001B[38;5;28mrange\u001B[39m(\u001B[38;5;28mlen\u001B[39m(predicted)):\n\u001B[0;32m      2\u001B[0m     org_id \u001B[38;5;241m=\u001B[39m test\u001B[38;5;241m.\u001B[39mloc[[i]][\u001B[38;5;124m'\u001B[39m\u001B[38;5;124morg_id\u001B[39m\u001B[38;5;124m'\u001B[39m]\u001B[38;5;241m.\u001B[39mvalues[\u001B[38;5;241m0\u001B[39m]\n\u001B[1;32m----> 3\u001B[0m     \u001B[38;5;28;01mif\u001B[39;00m org_id \u001B[38;5;129;01min\u001B[39;00m \u001B[43mm\u001B[49m:\n\u001B[0;32m      4\u001B[0m         predicted[i] \u001B[38;5;241m=\u001B[39m m[org_id]\n\u001B[0;32m      5\u001B[0m res \u001B[38;5;241m=\u001B[39m pd\u001B[38;5;241m.\u001B[39mDataFrame(data\u001B[38;5;241m=\u001B[39mpredicted, columns\u001B[38;5;241m=\u001B[39m[\u001B[38;5;124m'\u001B[39m\u001B[38;5;124mrating_org\u001B[39m\u001B[38;5;124m'\u001B[39m])\n",
      "\u001B[1;31mNameError\u001B[0m: name 'm' is not defined"
     ]
    }
   ],
   "source": [
    "for i in range(len(predicted)):\n",
    "    org_id = test.loc[[i]]['org_id'].values[0]\n",
    "    if org_id in m:\n",
    "        predicted[i] = m[org_id]\n",
    "res = pd.DataFrame(data=predicted, columns=['rating_org'])\n",
    "res.index.name = 'id'\n",
    "\n",
    "res.to_csv('res1.csv')"
   ],
   "metadata": {
    "collapsed": false
   }
  },
  {
   "cell_type": "code",
   "execution_count": null,
   "outputs": [],
   "source": [
    "for i in range(5, 151, 10):\n",
    "    x_train, x_test, y_train, y_test = train_test_split(x, y, test_size=0.25)\n",
    "    model = KNeighborsRegressor(n_neighbors=i, weights='distance', p=1)\n",
    "    model.fit(x_train, y_train)\n",
    "    print(i, model.score(x_test, y_test))"
   ],
   "metadata": {
    "collapsed": false
   }
  },
  {
   "cell_type": "code",
   "execution_count": null,
   "outputs": [],
   "source": [
    "import statistics\n",
    "\n",
    "cor = []\n",
    "for (columnName, columnData) in train.items():\n",
    "    coef = statistics.correlation(columnData, train.rating_org)\n",
    "    cor.append((abs(coef), columnName))\n",
    "cor.sort(reverse=True)\n",
    "print(*cor, sep='\\n')\n",
    "sortedColumns = list(map(lambda it: it[1], cor))[1:]\n",
    "sortedColumns.remove('org_id')\n",
    "sortedColumns.remove('user_id')\n",
    "print(sortedColumns)"
   ],
   "metadata": {
    "collapsed": false
   }
  },
  {
   "cell_type": "code",
   "execution_count": null,
   "outputs": [],
   "source": [
    "train = pd.read_csv('data/train.csv')\n",
    "\n",
    "rubric_mapping = dict(\n",
    "    zip(\n",
    "        pd.unique(train.rubrics),\n",
    "        np.arange(0, len(pd.unique(train.rubrics)))\n",
    "    )\n",
    ")\n",
    "train.rubrics = train.rubrics.apply(lambda it: rubric_mapping[it])\n",
    "\n",
    "city_mapping = {'msk': 0, 'spb': 1}\n",
    "train.user_city = train.user_city.apply(lambda it: city_mapping[it])\n",
    "train.org_city = train.org_city.apply(lambda it: city_mapping[it])\n",
    "\n",
    "mean = train.average_bill.mean()\n",
    "train.average_bill.fillna(mean, inplace=True)\n",
    "\n",
    "\n",
    "\n",
    "y = np.array(train.rating_org)\n",
    "\n",
    "model = KNeighborsRegressor(n_neighbors=20, weights='uniform', p=2)\n",
    "\n",
    "train[train.columns] = StandardScaler().fit_transform(train[train.columns])\n",
    "\n",
    "for i in range(25, len(sortedColumns)):\n",
    "    columns = sortedColumns[:i]\n",
    "    x = train[columns]\n",
    "    x_train, x_test, y_train, y_test = train_test_split(x, y, test_size=0.25)\n",
    "    model.fit(x_train, y_train)\n",
    "    print(i, model.score(x_test, y_test), columns[-1])"
   ],
   "metadata": {
    "collapsed": false
   }
  },
  {
   "cell_type": "markdown",
   "source": [
    "## Как это работает?\n",
    "\n",
    "Выбираем точку u и подбираем для неё категорию тета.\n",
    "\n",
    "![title](img.png)"
   ],
   "metadata": {
    "collapsed": false
   }
  },
  {
   "cell_type": "code",
   "execution_count": null,
   "outputs": [],
   "source": [
    "train = pd.read_csv('data/train.csv')\n",
    "train.drop(['user_id', 'org_id'], axis=1, inplace=True)\n",
    "train.fillna(method='ffill', inplace=True)\n",
    "\n",
    "ohe = OneHotEncoder()\n",
    "transformedRubrics = ohe.fit_transform(train[['rubrics']])\n",
    "rubricsCategories = ohe.categories_[0]\n",
    "train[rubricsCategories] = transformedRubrics.toarray()\n",
    "\n",
    "ohe = OneHotEncoder()\n",
    "transformedOrgCity = ohe.fit_transform(train[['org_city']])\n",
    "orgCityCategories = ohe.categories_[0]\n",
    "train[orgCityCategories] = transformedOrgCity.toarray()\n",
    "\n",
    "columns = ['rating', 'average_bill', 'payment_by_credit_card', 'wi_fi', 'cafe', 'has_bar', 'internet access', 'music', 'delivery', 'kalyan']\n",
    "columns += rubricsCategories.tolist()\n",
    "columns += orgCityCategories.tolist()\n",
    "x = train[columns]\n",
    "\n",
    "y = np.array(train.rating_org)\n",
    "\n",
    "model = KNeighborsRegressor(n_neighbors=100, weights='uniform', p=2)\n",
    "x_train, x_test, y_train, y_test = train_test_split(x, y, test_size=0.25)\n",
    "model.fit(x_train, y_train)\n",
    "\n",
    "print(model.score(x_test, y_test))\n",
    "\n",
    "\n",
    "test = pd.read_csv('data/test_x.csv')\n",
    "test.drop(['user_id', 'org_id'], axis=1, inplace=True)\n",
    "test.fillna(method='ffill', inplace=True)\n",
    "\n",
    "ohe = OneHotEncoder()\n",
    "transformedRubrics = ohe.fit_transform(test[['rubrics']])\n",
    "rubricsCategories = ohe.categories_[0]\n",
    "test[rubricsCategories] = transformedRubrics.toarray()\n",
    "\n",
    "ohe = OneHotEncoder()\n",
    "transformedOrgCity = ohe.fit_transform(test[['org_city']])\n",
    "orgCityCategories = ohe.categories_[0]\n",
    "test[orgCityCategories] = transformedOrgCity.toarray()\n",
    "\n",
    "test = test[columns]\n",
    "\n",
    "predicted = model.predict(test)\n",
    "res = pd.DataFrame(data=predicted, columns=['rating_org'])\n",
    "\n",
    "res.index.name = 'id'\n",
    "res.to_csv('res.csv')"
   ],
   "metadata": {
    "collapsed": false
   }
  }
 ],
 "metadata": {
  "kernelspec": {
   "display_name": "Python 3",
   "language": "python",
   "name": "python3"
  },
  "language_info": {
   "codemirror_mode": {
    "name": "ipython",
    "version": 2
   },
   "file_extension": ".py",
   "mimetype": "text/x-python",
   "name": "python",
   "nbconvert_exporter": "python",
   "pygments_lexer": "ipython2",
   "version": "2.7.6"
  }
 },
 "nbformat": 4,
 "nbformat_minor": 0
}
