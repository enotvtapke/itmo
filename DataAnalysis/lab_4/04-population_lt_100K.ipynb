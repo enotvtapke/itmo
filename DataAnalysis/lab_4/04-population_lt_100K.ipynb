{
 "cells": [
  {
   "cell_type": "code",
   "execution_count": 1,
   "metadata": {
    "collapsed": true
   },
   "outputs": [],
   "source": [
    "import pandas as pd\n",
    "from matplotlib import pyplot as plt\n",
    "from sklearn.linear_model import LinearRegression\n",
    "from sklearn.metrics import mean_absolute_percentage_error\n",
    "from sklearn.model_selection import train_test_split\n",
    "from sklearn.preprocessing import StandardScaler, OneHotEncoder"
   ]
  },
  {
   "cell_type": "code",
   "execution_count": 2,
   "outputs": [
    {
     "data": {
      "text/plain": "<AxesSubplot:>"
     },
     "execution_count": 2,
     "metadata": {},
     "output_type": "execute_result"
    },
    {
     "data": {
      "text/plain": "<Figure size 432x288 with 1 Axes>",
      "image/png": "[encoded data removed]"
     },
     "metadata": {
      "needs_background": "light"
     },
     "output_type": "display_data"
    }
   ],
   "source": [
    "df0 = pd.read_csv('./data/processed/population_lt_100K.csv')\n",
    "df0.per_square_meter_price.hist(bins=50)"
   ],
   "metadata": {
    "collapsed": false
   }
  },
  {
   "cell_type": "code",
   "execution_count": 3,
   "outputs": [
    {
     "name": "stderr",
     "output_type": "stream",
     "text": [
      "C:\\Users\\super\\AppData\\Local\\Temp\\ipykernel_15596\\1589001193.py:12: SettingWithCopyWarning: \n",
      "A value is trying to be set on a copy of a slice from a DataFrame.\n",
      "Try using .loc[row_indexer,col_indexer] = value instead\n",
      "\n",
      "See the caveats in the documentation: https://pandas.pydata.org/pandas-docs/stable/user_guide/indexing.html#returning-a-view-versus-a-copy\n",
      "  df[columns_to_scale] = StandardScaler().fit_transform(df[columns_to_scale])\n"
     ]
    },
    {
     "data": {
      "text/plain": "    per_square_meter_price      city  osm_city_closest_dist  \\\n0                14.106985 -1.035776              -0.334711   \n1                14.457198 -1.018471              -0.467919   \n2                15.158512 -1.018471              -0.375306   \n3                14.846334 -0.975209              -0.454965   \n4                15.388342 -0.957904              -0.583894   \n..                     ...       ...                    ...   \n95               14.865347 -0.395499              -0.074637   \n96               15.958553 -0.334932              -0.349510   \n97               15.450454 -0.326280              -0.487660   \n98               14.000373 -0.317627              -0.424104   \n99               15.027684 -0.378194              -0.597805   \n\n    osm_city_nearest_population  realty_type_10  realty_type_100  \\\n0                      0.229347             1.0              0.0   \n1                      0.033856             1.0              0.0   \n2                      0.033856             0.0              0.0   \n3                      1.162299             1.0              0.0   \n4                     -1.265168             1.0              0.0   \n..                          ...             ...              ...   \n95                    -0.109950             1.0              0.0   \n96                    -1.112797             1.0              0.0   \n97                    -0.279087             1.0              0.0   \n98                    -0.469307             1.0              0.0   \n99                    -1.066336             0.0              0.0   \n\n    realty_type_110  amenity_points  building_points  catering_points  \\\n0               0.0        1.676069        -0.091989         2.166967   \n1               0.0       -0.516951         0.136560        -0.388637   \n2               1.0        0.105759        -0.091989         0.009169   \n3               0.0        0.111775         0.067996         0.792727   \n4               0.0        0.177957        -0.091989        -0.123433   \n..              ...             ...              ...              ...   \n95              0.0       -0.889975        -0.091989        -0.569458   \n96              0.0        0.686352         0.067996         0.105607   \n97              0.0       -0.435728        -0.091989        -0.424801   \n98              0.0       -0.760620        -0.091989        -0.569458   \n99              1.0        0.141858        -0.091989        -0.002885   \n\n    crossing_points  culture_points  finance_points  healthcare_points  \\\n0          0.396689       -0.245248        0.402155           0.809619   \n1          0.024545        0.009372       -0.418820          -0.544975   \n2          0.528490        0.028959       -0.289192           0.035565   \n3          1.179743       -0.245248        0.142900          -0.028939   \n4         -0.339847       -0.245248        0.272528          -0.351461   \n..              ...             ...             ...                ...   \n95        -0.952335       -0.245248       -0.634866          -0.738488   \n96        -0.587943       -0.088559       -0.634866           1.712681   \n97        -0.246811       -0.245248       -0.332402           0.164574   \n98        -0.975594       -0.245248       -0.634866          -0.544975   \n99         1.559641       -0.245248        1.136712          -0.544975   \n\n    historic_points  hotels_points  leisure_points  offices_points  \\\n0         -0.534025       0.727874        0.220198       -0.155485   \n1          0.061956       0.727874       -0.645770       -0.187382   \n2         -0.236035      -0.368843       -0.472576       -0.570141   \n3         -0.534025      -0.149500        0.090303       -0.442554   \n4          0.061956      -0.368843       -0.645770       -0.570141   \n..              ...            ...             ...             ...   \n95        -0.534025      -0.368843       -0.645770       -0.570141   \n96        -0.534025      -0.368843        0.566586        0.801413   \n97        -0.534025      -0.149500       -0.515875       -0.570141   \n98        -0.236035      -0.368843       -0.645770       -0.570141   \n99         0.402517      -0.076386       -0.299383       -0.091692   \n\n    shops_points  \n0       2.023752  \n1      -0.583034  \n2       0.207508  \n3      -0.027653  \n4       0.492703  \n..           ...  \n95     -0.863226  \n96      1.038077  \n97     -0.337866  \n98     -0.753150  \n99      0.237528  \n\n[100 rows x 19 columns]",
      "text/html": "<div>\n<style scoped>\n    .dataframe tbody tr th:only-of-type {\n        vertical-align: middle;\n    }\n\n    .dataframe tbody tr th {\n        vertical-align: top;\n    }\n\n    .dataframe thead th {\n        text-align: right;\n    }\n</style>\n<table border=\"1\" class=\"dataframe\">\n  <thead>\n    <tr style=\"text-align: right;\">\n      <th></th>\n      <th>per_square_meter_price</th>\n      <th>city</th>\n      <th>osm_city_closest_dist</th>\n      <th>osm_city_nearest_population</th>\n      <th>realty_type_10</th>\n      <th>realty_type_100</th>\n      <th>realty_type_110</th>\n      <th>amenity_points</th>\n      <th>building_points</th>\n      <th>catering_points</th>\n      <th>crossing_points</th>\n      <th>culture_points</th>\n      <th>finance_points</th>\n      <th>healthcare_points</th>\n      <th>historic_points</th>\n      <th>hotels_points</th>\n      <th>leisure_points</th>\n      <th>offices_points</th>\n      <th>shops_points</th>\n    </tr>\n  </thead>\n  <tbody>\n    <tr>\n      <th>0</th>\n      <td>14.106985</td>\n      <td>-1.035776</td>\n      <td>-0.334711</td>\n      <td>0.229347</td>\n      <td>1.0</td>\n      <td>0.0</td>\n      <td>0.0</td>\n      <td>1.676069</td>\n      <td>-0.091989</td>\n      <td>2.166967</td>\n      <td>0.396689</td>\n      <td>-0.245248</td>\n      <td>0.402155</td>\n      <td>0.809619</td>\n      <td>-0.534025</td>\n      <td>0.727874</td>\n      <td>0.220198</td>\n      <td>-0.155485</td>\n      <td>2.023752</td>\n    </tr>\n    <tr>\n      <th>1</th>\n      <td>14.457198</td>\n      <td>-1.018471</td>\n      <td>-0.467919</td>\n      <td>0.033856</td>\n      <td>1.0</td>\n      <td>0.0</td>\n      <td>0.0</td>\n      <td>-0.516951</td>\n      <td>0.136560</td>\n      <td>-0.388637</td>\n      <td>0.024545</td>\n      <td>0.009372</td>\n      <td>-0.418820</td>\n      <td>-0.544975</td>\n      <td>0.061956</td>\n      <td>0.727874</td>\n      <td>-0.645770</td>\n      <td>-0.187382</td>\n      <td>-0.583034</td>\n    </tr>\n    <tr>\n      <th>2</th>\n      <td>15.158512</td>\n      <td>-1.018471</td>\n      <td>-0.375306</td>\n      <td>0.033856</td>\n      <td>0.0</td>\n      <td>0.0</td>\n      <td>1.0</td>\n      <td>0.105759</td>\n      <td>-0.091989</td>\n      <td>0.009169</td>\n      <td>0.528490</td>\n      <td>0.028959</td>\n      <td>-0.289192</td>\n      <td>0.035565</td>\n      <td>-0.236035</td>\n      <td>-0.368843</td>\n      <td>-0.472576</td>\n      <td>-0.570141</td>\n      <td>0.207508</td>\n    </tr>\n    <tr>\n      <th>3</th>\n      <td>14.846334</td>\n      <td>-0.975209</td>\n      <td>-0.454965</td>\n      <td>1.162299</td>\n      <td>1.0</td>\n      <td>0.0</td>\n      <td>0.0</td>\n      <td>0.111775</td>\n      <td>0.067996</td>\n      <td>0.792727</td>\n      <td>1.179743</td>\n      <td>-0.245248</td>\n      <td>0.142900</td>\n      <td>-0.028939</td>\n      <td>-0.534025</td>\n      <td>-0.149500</td>\n      <td>0.090303</td>\n      <td>-0.442554</td>\n      <td>-0.027653</td>\n    </tr>\n    <tr>\n      <th>4</th>\n      <td>15.388342</td>\n      <td>-0.957904</td>\n      <td>-0.583894</td>\n      <td>-1.265168</td>\n      <td>1.0</td>\n      <td>0.0</td>\n      <td>0.0</td>\n      <td>0.177957</td>\n      <td>-0.091989</td>\n      <td>-0.123433</td>\n      <td>-0.339847</td>\n      <td>-0.245248</td>\n      <td>0.272528</td>\n      <td>-0.351461</td>\n      <td>0.061956</td>\n      <td>-0.368843</td>\n      <td>-0.645770</td>\n      <td>-0.570141</td>\n      <td>0.492703</td>\n    </tr>\n    <tr>\n      <th>...</th>\n      <td>...</td>\n      <td>...</td>\n      <td>...</td>\n      <td>...</td>\n      <td>...</td>\n      <td>...</td>\n      <td>...</td>\n      <td>...</td>\n      <td>...</td>\n      <td>...</td>\n      <td>...</td>\n      <td>...</td>\n      <td>...</td>\n      <td>...</td>\n      <td>...</td>\n      <td>...</td>\n      <td>...</td>\n      <td>...</td>\n      <td>...</td>\n    </tr>\n    <tr>\n      <th>95</th>\n      <td>14.865347</td>\n      <td>-0.395499</td>\n      <td>-0.074637</td>\n      <td>-0.109950</td>\n      <td>1.0</td>\n      <td>0.0</td>\n      <td>0.0</td>\n      <td>-0.889975</td>\n      <td>-0.091989</td>\n      <td>-0.569458</td>\n      <td>-0.952335</td>\n      <td>-0.245248</td>\n      <td>-0.634866</td>\n      <td>-0.738488</td>\n      <td>-0.534025</td>\n      <td>-0.368843</td>\n      <td>-0.645770</td>\n      <td>-0.570141</td>\n      <td>-0.863226</td>\n    </tr>\n    <tr>\n      <th>96</th>\n      <td>15.958553</td>\n      <td>-0.334932</td>\n      <td>-0.349510</td>\n      <td>-1.112797</td>\n      <td>1.0</td>\n      <td>0.0</td>\n      <td>0.0</td>\n      <td>0.686352</td>\n      <td>0.067996</td>\n      <td>0.105607</td>\n      <td>-0.587943</td>\n      <td>-0.088559</td>\n      <td>-0.634866</td>\n      <td>1.712681</td>\n      <td>-0.534025</td>\n      <td>-0.368843</td>\n      <td>0.566586</td>\n      <td>0.801413</td>\n      <td>1.038077</td>\n    </tr>\n    <tr>\n      <th>97</th>\n      <td>15.450454</td>\n      <td>-0.326280</td>\n      <td>-0.487660</td>\n      <td>-0.279087</td>\n      <td>1.0</td>\n      <td>0.0</td>\n      <td>0.0</td>\n      <td>-0.435728</td>\n      <td>-0.091989</td>\n      <td>-0.424801</td>\n      <td>-0.246811</td>\n      <td>-0.245248</td>\n      <td>-0.332402</td>\n      <td>0.164574</td>\n      <td>-0.534025</td>\n      <td>-0.149500</td>\n      <td>-0.515875</td>\n      <td>-0.570141</td>\n      <td>-0.337866</td>\n    </tr>\n    <tr>\n      <th>98</th>\n      <td>14.000373</td>\n      <td>-0.317627</td>\n      <td>-0.424104</td>\n      <td>-0.469307</td>\n      <td>1.0</td>\n      <td>0.0</td>\n      <td>0.0</td>\n      <td>-0.760620</td>\n      <td>-0.091989</td>\n      <td>-0.569458</td>\n      <td>-0.975594</td>\n      <td>-0.245248</td>\n      <td>-0.634866</td>\n      <td>-0.544975</td>\n      <td>-0.236035</td>\n      <td>-0.368843</td>\n      <td>-0.645770</td>\n      <td>-0.570141</td>\n      <td>-0.753150</td>\n    </tr>\n    <tr>\n      <th>99</th>\n      <td>15.027684</td>\n      <td>-0.378194</td>\n      <td>-0.597805</td>\n      <td>-1.066336</td>\n      <td>0.0</td>\n      <td>0.0</td>\n      <td>1.0</td>\n      <td>0.141858</td>\n      <td>-0.091989</td>\n      <td>-0.002885</td>\n      <td>1.559641</td>\n      <td>-0.245248</td>\n      <td>1.136712</td>\n      <td>-0.544975</td>\n      <td>0.402517</td>\n      <td>-0.076386</td>\n      <td>-0.299383</td>\n      <td>-0.091692</td>\n      <td>0.237528</td>\n    </tr>\n  </tbody>\n</table>\n<p>100 rows × 19 columns</p>\n</div>"
     },
     "execution_count": 3,
     "metadata": {},
     "output_type": "execute_result"
    }
   ],
   "source": [
    "realty_type_categories = ['realty_type_10', 'realty_type_100', 'realty_type_110']\n",
    "points_types = ['amenity_points', 'building_points', 'catering_points', 'crossing_points', 'culture_points',\n",
    "                'finance_points', 'healthcare_points', 'historic_points', 'hotels_points', 'leisure_points',\n",
    "                'offices_points', 'shops_points']\n",
    "\n",
    "columns = ['per_square_meter_price', 'city', 'osm_city_closest_dist', 'osm_city_nearest_population'] + realty_type_categories + points_types\n",
    "\n",
    "df = df0[columns]\n",
    "\n",
    "target_col = 'per_square_meter_price'\n",
    "columns_to_scale = ['city', 'osm_city_closest_dist', 'osm_city_nearest_population'] + points_types\n",
    "df[columns_to_scale] = StandardScaler().fit_transform(df[columns_to_scale])\n",
    "\n",
    "df.head(100)"
   ],
   "metadata": {
    "collapsed": false
   }
  },
  {
   "cell_type": "code",
   "execution_count": 4,
   "outputs": [
    {
     "name": "stdout",
     "output_type": "stream",
     "text": [
      "1.0569755191365227\n",
      "1.2522207366858504\n"
     ]
    }
   ],
   "source": [
    "mape_mean = 0\n",
    "baseline_mean = 0\n",
    "n = 50\n",
    "for _ in range(n):\n",
    "       train, test = train_test_split(df, test_size=0.5)\n",
    "\n",
    "       baseline = pd.Series([train.per_square_meter_price.mean()] * len(test))\n",
    "\n",
    "       train_x, train_y = train.drop(target_col, axis=1), train[target_col]\n",
    "       test_x, test_y = test.drop(target_col, axis=1), test[target_col]\n",
    "\n",
    "       model = LinearRegression()\n",
    "       model.fit(train_x, train_y)\n",
    "\n",
    "       pred = model.predict(test_x)\n",
    "       mape_mean += mean_absolute_percentage_error(2**test_y, 2**pred)\n",
    "       baseline_mean += mean_absolute_percentage_error(2 ** test_y, 2 ** baseline)\n",
    "print(mape_mean / n)\n",
    "print(baseline_mean / n)"
   ],
   "metadata": {
    "collapsed": false
   }
  },
  {
   "cell_type": "markdown",
   "source": [
    "### Forecasting"
   ],
   "metadata": {
    "collapsed": false
   }
  },
  {
   "cell_type": "code",
   "execution_count": 5,
   "outputs": [
    {
     "name": "stdout",
     "output_type": "stream",
     "text": [
      "     city  floor          id        lat         lng  osm_city_closest_dist  \\\n",
      "id                                                                           \n",
      "1       1    NaN   COL_70629  54.489840   53.490696              89.332957   \n",
      "3       3    1.0   COL_16510  55.785270   37.853317               7.254629   \n",
      "4       4    3.0  COL_141915  55.738186   36.981342              19.729642   \n",
      "5       5    1.0  COL_120406  53.520756   49.281242               8.379783   \n",
      "6       6    NaN   COL_51882  59.220380   39.867798               1.459868   \n",
      "..    ...    ...         ...        ...         ...                    ...   \n",
      "219    12    NaN  COL_221481  52.264015  104.314730               3.673733   \n",
      "220     7    NaN   COL_67399  58.596066   49.648663               1.211811   \n",
      "221    80    NaN  COL_151608  52.546820  103.895270               1.945834   \n",
      "222    64    NaN   COL_12931  60.956882   76.512184               4.527883   \n",
      "227    92    0.0  COL_161794  56.443657   85.003920               5.930106   \n",
      "\n",
      "    osm_city_nearest_name  osm_city_nearest_population  \\\n",
      "id                                                       \n",
      "1             Альметьевск                     151157.0   \n",
      "3                Балашиха                     260704.0   \n",
      "4                Одинцово                     141429.0   \n",
      "5                Тольятти                     707408.0   \n",
      "6                 Вологда                     311166.0   \n",
      "..                    ...                          ...   \n",
      "219               Иркутск                     623562.0   \n",
      "220                 Киров                     496986.0   \n",
      "221               Ангарск                     226374.0   \n",
      "222         Нижневартовск                     277668.0   \n",
      "227                 Томск                     576624.0   \n",
      "\n",
      "     osm_crossing_closest_dist  osm_subway_closest_dist  ...  finance_points  \\\n",
      "id                                                       ...                   \n",
      "1                     0.426378               253.920035  ...               4   \n",
      "3                     0.208348                 4.510089  ...               0   \n",
      "4                     0.218773                25.019476  ...               0   \n",
      "5                     0.088891                66.339232  ...             132   \n",
      "6                     0.091482               398.986654  ...             100   \n",
      "..                         ...                      ...  ...             ...   \n",
      "219                   0.030687                60.877888  ...              56   \n",
      "220                   0.042929               306.635711  ...              76   \n",
      "221                   0.029898                59.430537  ...             116   \n",
      "222                   0.846986               688.230067  ...               0   \n",
      "227                   0.410247               201.394996  ...               4   \n",
      "\n",
      "     healthcare_points  historic_points  hotels_points  leisure_points  \\\n",
      "id                                                                       \n",
      "1                    8                4              0               0   \n",
      "3                    0                0              0               0   \n",
      "4                    0                4              0              56   \n",
      "5                    0               36              0               8   \n",
      "6                    8               44             72              12   \n",
      "..                 ...              ...            ...             ...   \n",
      "219                 72               12             16              40   \n",
      "220                 92               16             32              40   \n",
      "221                 56                0              0               8   \n",
      "222                  0                0             28               0   \n",
      "227                  0                0              0               0   \n",
      "\n",
      "     offices_points  shops_points  realty_type_10  realty_type_100  \\\n",
      "id                                                                   \n",
      "1                44            64             0.0              1.0   \n",
      "3                28           472             1.0              0.0   \n",
      "4                 0            88             0.0              0.0   \n",
      "5               136           272             0.0              1.0   \n",
      "6                88           460             1.0              0.0   \n",
      "..              ...           ...             ...              ...   \n",
      "219              56          1332             0.0              0.0   \n",
      "220              88          1596             1.0              0.0   \n",
      "221              56           620             1.0              0.0   \n",
      "222              16             0             1.0              0.0   \n",
      "227               0             0             1.0              0.0   \n",
      "\n",
      "     realty_type_110  \n",
      "id                    \n",
      "1                0.0  \n",
      "3                0.0  \n",
      "4                1.0  \n",
      "5                0.0  \n",
      "6                0.0  \n",
      "..               ...  \n",
      "219              1.0  \n",
      "220              0.0  \n",
      "221              0.0  \n",
      "222              0.0  \n",
      "227              0.0  \n",
      "\n",
      "[100 rows x 45 columns]\n",
      "(28702, 45)\n"
     ]
    }
   ],
   "source": [
    "df0 = pd.read_csv('./data/test/population_lt_100K.csv')\n",
    "df0.set_index('Unnamed: 0', inplace=True)\n",
    "df0.index.name='id'\n",
    "print(df0.head(100))\n",
    "print(df0.shape)"
   ],
   "metadata": {
    "collapsed": false
   }
  },
  {
   "cell_type": "code",
   "execution_count": 6,
   "outputs": [
    {
     "name": "stdout",
     "output_type": "stream",
     "text": [
      "         city  osm_city_closest_dist  osm_city_nearest_population  \\\n",
      "id                                                                  \n",
      "1   -0.652355               1.408380                    -1.001361   \n",
      "3   -0.648631              -0.355405                    -0.478896   \n",
      "4   -0.646769              -0.087328                    -1.047757   \n",
      "5   -0.644907              -0.331226                     1.651581   \n",
      "6   -0.643045              -0.479928                    -0.238226   \n",
      "..        ...                    ...                          ...   \n",
      "219 -0.631873              -0.432355                     1.251692   \n",
      "220 -0.641183              -0.485259                     0.648010   \n",
      "221 -0.505256              -0.469485                    -0.642627   \n",
      "222 -0.535048              -0.414000                    -0.397989   \n",
      "227 -0.482911              -0.383867                     1.027829   \n",
      "\n",
      "     realty_type_10  realty_type_100  realty_type_110  amenity_points  \\\n",
      "id                                                                      \n",
      "1               0.0              1.0              0.0       -0.712423   \n",
      "3               1.0              0.0              0.0       -0.372968   \n",
      "4               0.0              0.0              1.0       -0.605558   \n",
      "5               0.0              1.0              0.0       -0.247244   \n",
      "6               1.0              0.0              0.0       -0.099518   \n",
      "..              ...              ...              ...             ...   \n",
      "219             0.0              0.0              1.0        0.686258   \n",
      "220             1.0              0.0              0.0        0.962851   \n",
      "221             1.0              0.0              0.0        0.079639   \n",
      "222             1.0              0.0              0.0       -0.813003   \n",
      "227             1.0              0.0              0.0       -0.828718   \n",
      "\n",
      "     building_points  catering_points  crossing_points  culture_points  \\\n",
      "id                                                                       \n",
      "1          -0.013114        -0.418019        -0.758309       -0.241064   \n",
      "3          -0.098443        -0.152601        -0.352426       -0.241064   \n",
      "4          -0.098443        -0.253712        -0.829935       -0.241064   \n",
      "5          -0.098443         0.087540         2.456918       -0.066792   \n",
      "6          -0.098443        -0.026211         1.629236       -0.132144   \n",
      "..               ...              ...              ...             ...   \n",
      "219        -0.070000         0.605739         0.053456       -0.219280   \n",
      "220        -0.098443         0.580461         2.480793       -0.045008   \n",
      "221        -0.098443         0.074901         2.425084       -0.175712   \n",
      "222        -0.098443        -0.531770        -0.853811       -0.241064   \n",
      "227        -0.098443        -0.519131        -0.861769       -0.241064   \n",
      "\n",
      "     finance_points  healthcare_points  historic_points  hotels_points  \\\n",
      "id                                                                       \n",
      "1         -0.554031          -0.553869        -0.477070      -0.325299   \n",
      "3         -0.599761          -0.691498        -0.521605      -0.325299   \n",
      "4         -0.599761          -0.691498        -0.477070      -0.325299   \n",
      "5          0.909318          -0.691498        -0.120792      -0.325299   \n",
      "6          0.543481          -0.553869        -0.031723       0.948925   \n",
      "..              ...                ...              ...            ...   \n",
      "219        0.040454           0.547161        -0.388001      -0.042138   \n",
      "220        0.269103           0.891232        -0.343466       0.241023   \n",
      "221        0.726400           0.271903        -0.521605      -0.325299   \n",
      "222       -0.599761          -0.691498        -0.521605       0.170233   \n",
      "227       -0.554031          -0.691498        -0.521605      -0.325299   \n",
      "\n",
      "     leisure_points  offices_points  shops_points  \n",
      "id                                                 \n",
      "1         -0.612531       -0.169918     -0.731322  \n",
      "3         -0.612531       -0.300532     -0.195177  \n",
      "4          0.041630       -0.529107     -0.699784  \n",
      "5         -0.519079        0.581114     -0.457993  \n",
      "6         -0.472353        0.189272     -0.210946  \n",
      "..              ...             ...           ...  \n",
      "219       -0.145273       -0.071957      0.934931  \n",
      "220       -0.145273        0.189272      1.281848  \n",
      "221       -0.519079       -0.071957     -0.000694  \n",
      "222       -0.612531       -0.398493     -0.815423  \n",
      "227       -0.612531       -0.529107     -0.815423  \n",
      "\n",
      "[100 rows x 18 columns]\n",
      "(28702, 18)\n"
     ]
    },
    {
     "name": "stderr",
     "output_type": "stream",
     "text": [
      "C:\\Users\\super\\AppData\\Local\\Temp\\ipykernel_15596\\887400710.py:5: SettingWithCopyWarning: \n",
      "A value is trying to be set on a copy of a slice from a DataFrame.\n",
      "Try using .loc[row_indexer,col_indexer] = value instead\n",
      "\n",
      "See the caveats in the documentation: https://pandas.pydata.org/pandas-docs/stable/user_guide/indexing.html#returning-a-view-versus-a-copy\n",
      "  df[columns_to_scale] = StandardScaler().fit_transform(df[columns_to_scale])\n"
     ]
    }
   ],
   "source": [
    "columns.remove('per_square_meter_price') if 'per_square_meter_price' in columns else ''\n",
    "df = df0[columns]\n",
    "\n",
    "columns_to_scale = ['city', 'osm_city_closest_dist', 'osm_city_nearest_population'] + points_types\n",
    "df[columns_to_scale] = StandardScaler().fit_transform(df[columns_to_scale])\n",
    "\n",
    "print(df.head(100))\n",
    "print(df.shape)"
   ],
   "metadata": {
    "collapsed": false
   }
  },
  {
   "cell_type": "code",
   "execution_count": 7,
   "outputs": [
    {
     "name": "stdout",
     "output_type": "stream",
     "text": [
      "     per_square_meter_price\n",
      "id                         \n",
      "1                 14.804659\n",
      "3                 15.068627\n",
      "4                 15.276673\n",
      "5                 15.536813\n",
      "6                 15.492930\n",
      "..                      ...\n",
      "219               15.645691\n",
      "220               15.991900\n",
      "221               15.801325\n",
      "222               14.880330\n",
      "227               14.726716\n",
      "\n",
      "[100 rows x 1 columns]\n"
     ]
    }
   ],
   "source": [
    "pred = model.predict(df)\n",
    "\n",
    "res = pd.DataFrame(data=pred, columns=[target_col])\n",
    "res['id'] = df0.index.tolist()\n",
    "res.set_index('id', inplace=True)\n",
    "\n",
    "print(res.head(100))\n",
    "res.to_csv('./data/forecast/population_lt_100K.csv')"
   ],
   "metadata": {
    "collapsed": false
   }
  }
 ],
 "metadata": {
  "kernelspec": {
   "display_name": "Python 3",
   "language": "python",
   "name": "python3"
  },
  "language_info": {
   "codemirror_mode": {
    "name": "ipython",
    "version": 2
   },
   "file_extension": ".py",
   "mimetype": "text/x-python",
   "name": "python",
   "nbconvert_exporter": "python",
   "pygments_lexer": "ipython2",
   "version": "2.7.6"
  }
 },
 "nbformat": 4,
 "nbformat_minor": 0
}
