{
 "cells": [
  {
   "cell_type": "code",
   "execution_count": 1,
   "metadata": {
    "collapsed": true
   },
   "outputs": [],
   "source": [
    "import pandas as pd\n",
    "from matplotlib import pyplot as plt\n",
    "from sklearn.linear_model import LinearRegression\n",
    "from sklearn.metrics import mean_absolute_percentage_error\n",
    "from sklearn.model_selection import train_test_split\n",
    "from sklearn.preprocessing import OneHotEncoder"
   ]
  },
  {
   "cell_type": "code",
   "execution_count": 2,
   "outputs": [
    {
     "name": "stdout",
     "output_type": "stream",
     "text": [
      "(206474, 76)\n"
     ]
    }
   ],
   "source": [
    "df0 = pd.read_csv('./data/raw/train.csv')\n",
    "print(df0.shape)"
   ],
   "metadata": {
    "collapsed": false
   }
  },
  {
   "cell_type": "markdown",
   "source": [
    "### Отсекаю слишком дорогую недвижимость и слишком дешёвую недвижимость"
   ],
   "metadata": {
    "collapsed": false
   }
  },
  {
   "cell_type": "code",
   "execution_count": 12,
   "outputs": [
    {
     "name": "stdout",
     "output_type": "stream",
     "text": [
      "(198367, 76)\n"
     ]
    },
    {
     "data": {
      "text/plain": "<AxesSubplot:>"
     },
     "execution_count": 12,
     "metadata": {},
     "output_type": "execute_result"
    },
    {
     "data": {
      "text/plain": "<Figure size 432x288 with 1 Axes>",
      "image/png": "[encoded data removed]"
     },
     "metadata": {
      "needs_background": "light"
     },
     "output_type": "display_data"
    }
   ],
   "source": [
    "df1 = df0[(df0['per_square_meter_price'] > 1000) & (df0['per_square_meter_price'] < 0.5e6)]\n",
    "print(df1.shape)\n",
    "# Maybe df['per_square_meter_price'] > 1000 is useless\n",
    "df1['per_square_meter_price'].hist(bins=50)"
   ],
   "metadata": {
    "collapsed": false
   }
  },
  {
   "cell_type": "markdown",
   "source": [
    "### Отсекаю города, которые слишком далеко от больших"
   ],
   "metadata": {
    "collapsed": false
   }
  },
  {
   "cell_type": "code",
   "execution_count": 4,
   "outputs": [
    {
     "name": "stdout",
     "output_type": "stream",
     "text": [
      "(192162, 76)\n"
     ]
    }
   ],
   "source": [
    "df2 = df1[df1['osm_city_closest_dist'] < 100] # Мб не надо\n",
    "print(df2.shape)"
   ],
   "metadata": {
    "collapsed": false
   }
  },
  {
   "cell_type": "markdown",
   "source": [
    "### Отсекаю города, в которых слишком мало предложений"
   ],
   "metadata": {
    "collapsed": false
   }
  },
  {
   "cell_type": "code",
   "execution_count": 5,
   "outputs": [
    {
     "name": "stdout",
     "output_type": "stream",
     "text": [
      "(182463, 76)\n"
     ]
    }
   ],
   "source": [
    "df3 = df2.groupby('city').filter(lambda x: len(x) > 15)\n",
    "print(df3.shape)"
   ],
   "metadata": {
    "collapsed": false
   }
  },
  {
   "cell_type": "markdown",
   "source": [
    "### Объединяю категории points"
   ],
   "metadata": {
    "collapsed": false
   }
  },
  {
   "cell_type": "code",
   "execution_count": 6,
   "outputs": [],
   "source": [
    "points_types = ['amenity_points', 'building_points', 'catering_points', 'crossing_points', 'culture_points',\n",
    "                'finance_points', 'healthcare_points', 'historic_points', 'hotels_points', 'leisure_points',\n",
    "                'offices_points', 'shops_points']\n",
    "df4 = df3.copy()\n",
    "for point_type in points_types:\n",
    "       df4[point_type] = 16 * df3[f'osm_{point_type}_in_0.005'] + 8 * df3[f'osm_{point_type}_in_0.0075'] + 4 * df3[\n",
    "              f'osm_{point_type}_in_0.01']\n",
    "       df4 = df4.drop([f'osm_{point_type}_in_0.005', f'osm_{point_type}_in_0.0075', f'osm_{point_type}_in_0.01'], axis=1)\n",
    "       if f'osm_{point_type}_in_0.001' in df3.columns:\n",
    "              df4[point_type] += 32 * df3[f'osm_{point_type}_in_0.001']\n",
    "              df4 = df4.drop([f'osm_{point_type}_in_0.001'], axis=1)"
   ],
   "metadata": {
    "collapsed": false
   }
  },
  {
   "cell_type": "markdown",
   "source": [
    "### Кодирую realty_type с помощью ohe"
   ],
   "metadata": {
    "collapsed": false
   }
  },
  {
   "cell_type": "code",
   "execution_count": 7,
   "outputs": [],
   "source": [
    "df5 = df4.copy()\n",
    "ohe = OneHotEncoder()\n",
    "oheRealtyType = ohe.fit_transform(df5[['realty_type']])\n",
    "realtyTypeCategories = list(map(lambda x: 'realty_type_' + str(x),  ohe.categories_[0]))\n",
    "df5[realtyTypeCategories] = oheRealtyType.toarray()\n",
    "df5 = df5.drop(['realty_type'], axis=1)"
   ],
   "metadata": {
    "collapsed": false
   }
  },
  {
   "cell_type": "markdown",
   "source": [
    "### Логарифмирую цену за квадратный метр"
   ],
   "metadata": {
    "collapsed": false
   }
  },
  {
   "cell_type": "code",
   "execution_count": 8,
   "outputs": [
    {
     "name": "stdout",
     "output_type": "stream",
     "text": [
      "0              Ставрополь\n",
      "1                    Омск\n",
      "2                Белгород\n",
      "4             Новосибирск\n",
      "5              Красноярск\n",
      "               ...       \n",
      "206469       Нижний Тагил\n",
      "206470        Новосибирск\n",
      "206471         Ставрополь\n",
      "206472    Санкт-Петербург\n",
      "206473       Екатеринбург\n",
      "Name: city, Length: 182463, dtype: object\n"
     ]
    }
   ],
   "source": [
    "from math import log2\n",
    "\n",
    "df6 = df5.assign(\n",
    "       per_square_meter_price = df5.per_square_meter_price.apply(log2)\n",
    ")\n",
    "\n",
    "print(df6.city)"
   ],
   "metadata": {
    "collapsed": false
   }
  },
  {
   "cell_type": "markdown",
   "source": [
    "### Кодирую названия городов"
   ],
   "metadata": {
    "collapsed": false
   }
  },
  {
   "cell_type": "code",
   "execution_count": 9,
   "outputs": [
    {
     "name": "stdout",
     "output_type": "stream",
     "text": [
      "(182463, 46)\n",
      "0.8837093290196344\n"
     ]
    }
   ],
   "source": [
    "df7 = df6.copy()\n",
    "\n",
    "city_mapping = dict(\n",
    "    zip(\n",
    "        pd.unique(df7.city),\n",
    "        range(0, len(pd.unique(df7.city)))\n",
    "    )\n",
    ")\n",
    "df7.city = df7.city.apply(lambda it: city_mapping[it])\n",
    "print(df7.shape)\n",
    "print(df7.shape[0] / df0.shape[0])"
   ],
   "metadata": {
    "collapsed": false
   }
  },
  {
   "cell_type": "markdown",
   "source": [
    "### Распределяю недвижимость по городам относительно численности населения"
   ],
   "metadata": {
    "collapsed": false
   }
  },
  {
   "cell_type": "code",
   "execution_count": 10,
   "outputs": [
    {
     "name": "stdout",
     "output_type": "stream",
     "text": [
      "(49475, 46)\n",
      "(60098, 46)\n",
      "(72890, 46)\n",
      "182463\n"
     ]
    }
   ],
   "source": [
    "msk_spb = [city_mapping['Москва'], city_mapping['Санкт-Петербург']]\n",
    "moscow_spb = df7[df7['city'].isin(msk_spb)]\n",
    "print(moscow_spb.shape)\n",
    "population_gt_1M = df7[(df7['osm_city_nearest_population'] >= 1e6) & (~df7['city'].isin(msk_spb))]\n",
    "print(population_gt_1M.shape)\n",
    "# TODO сделать больше категорий для малых городов, если точность предсказаний будет низкой (использовать сторонние источники с численностью населения городов, так как osm_city_nearest_population для малых городов не подходит)\n",
    "population_lt_100K = df7[(df7['osm_city_nearest_population'] < 1e6) & (~df7['city'].isin(msk_spb))]\n",
    "print(population_lt_100K.shape)\n",
    "print(moscow_spb.shape[0] + population_gt_1M.shape[0] + population_lt_100K.shape[0])"
   ],
   "metadata": {
    "collapsed": false
   }
  },
  {
   "cell_type": "code",
   "execution_count": 11,
   "outputs": [],
   "source": [
    "moscow_spb.to_csv('./data/processed/moscow_spb.csv', index=False)\n",
    "population_gt_1M.to_csv('./data/processed/population_gt_1M.csv', index=False)\n",
    "population_lt_100K.to_csv('./data/processed/population_lt_100K.csv', index=False)"
   ],
   "metadata": {
    "collapsed": false
   }
  }
 ],
 "metadata": {
  "kernelspec": {
   "display_name": "Python 3",
   "language": "python",
   "name": "python3"
  },
  "language_info": {
   "codemirror_mode": {
    "name": "ipython",
    "version": 2
   },
   "file_extension": ".py",
   "mimetype": "text/x-python",
   "name": "python",
   "nbconvert_exporter": "python",
   "pygments_lexer": "ipython2",
   "version": "2.7.6"
  }
 },
 "nbformat": 4,
 "nbformat_minor": 0
}
