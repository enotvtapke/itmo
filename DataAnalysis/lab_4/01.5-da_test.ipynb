{
 "cells": [
  {
   "cell_type": "code",
   "execution_count": 42,
   "metadata": {
    "collapsed": true
   },
   "outputs": [],
   "source": [
    "import pandas as pd\n",
    "from matplotlib import pyplot as plt\n",
    "from sklearn.linear_model import LinearRegression\n",
    "from sklearn.metrics import mean_absolute_percentage_error\n",
    "from sklearn.model_selection import train_test_split\n",
    "from sklearn.preprocessing import OneHotEncoder"
   ]
  },
  {
   "cell_type": "code",
   "execution_count": 43,
   "outputs": [
    {
     "name": "stdout",
     "output_type": "stream",
     "text": [
      "(68825, 75)\n"
     ]
    }
   ],
   "source": [
    "df0 = pd.read_csv('./data/raw/test_x.csv')\n",
    "print(df0.shape)"
   ],
   "metadata": {
    "collapsed": false
   }
  },
  {
   "cell_type": "markdown",
   "source": [
    "### Заполняю null values"
   ],
   "metadata": {
    "collapsed": false
   }
  },
  {
   "cell_type": "code",
   "execution_count": 44,
   "outputs": [],
   "source": [
    "df3 = df0.copy()\n",
    "df3.osm_city_nearest_population = df3.osm_city_nearest_population.fillna(method='ffill')"
   ],
   "metadata": {
    "collapsed": false
   }
  },
  {
   "cell_type": "markdown",
   "source": [
    "### Объединяю категории points"
   ],
   "metadata": {
    "collapsed": false
   }
  },
  {
   "cell_type": "code",
   "execution_count": 45,
   "outputs": [],
   "source": [
    "points_types = ['amenity_points', 'building_points', 'catering_points', 'crossing_points', 'culture_points',\n",
    "                'finance_points', 'healthcare_points', 'historic_points', 'hotels_points', 'leisure_points',\n",
    "                'offices_points', 'shops_points']\n",
    "df4 = df3.copy()\n",
    "for point_type in points_types:\n",
    "       df4[point_type] = 16 * df3[f'osm_{point_type}_in_0.005'] + 8 * df3[f'osm_{point_type}_in_0.0075'] + 4 * df3[\n",
    "              f'osm_{point_type}_in_0.01']\n",
    "       df4 = df4.drop([f'osm_{point_type}_in_0.005', f'osm_{point_type}_in_0.0075', f'osm_{point_type}_in_0.01'], axis=1)\n",
    "       if f'osm_{point_type}_in_0.001' in df3.columns:\n",
    "              df4[point_type] += 32 * df3[f'osm_{point_type}_in_0.001']\n",
    "              df4 = df4.drop([f'osm_{point_type}_in_0.001'], axis=1)"
   ],
   "metadata": {
    "collapsed": false
   }
  },
  {
   "cell_type": "markdown",
   "source": [
    "### Кодирую realty_type с помощью ohe"
   ],
   "metadata": {
    "collapsed": false
   }
  },
  {
   "cell_type": "code",
   "execution_count": 46,
   "outputs": [],
   "source": [
    "df5 = df4.copy()\n",
    "ohe = OneHotEncoder()\n",
    "oheRealtyType = ohe.fit_transform(df5[['realty_type']])\n",
    "realtyTypeCategories = list(map(lambda x: 'realty_type_' + str(x),  ohe.categories_[0]))\n",
    "df5[realtyTypeCategories] = oheRealtyType.toarray()\n",
    "df5 = df5.drop(['realty_type'], axis=1)"
   ],
   "metadata": {
    "collapsed": false
   }
  },
  {
   "cell_type": "markdown",
   "source": [
    "### Кодирую названия городов"
   ],
   "metadata": {
    "collapsed": false
   }
  },
  {
   "cell_type": "code",
   "execution_count": 47,
   "outputs": [
    {
     "name": "stdout",
     "output_type": "stream",
     "text": [
      "(68825, 45)\n",
      "1.0\n"
     ]
    }
   ],
   "source": [
    "df7 = df5.copy()\n",
    "\n",
    "city_mapping = dict(\n",
    "    zip(\n",
    "        pd.unique(df7.city),\n",
    "        range(0, len(pd.unique(df7.city)))\n",
    "    )\n",
    ")\n",
    "df7.city = df7.city.apply(lambda it: city_mapping[it])\n",
    "print(df7.shape)\n",
    "print(df7.shape[0] / df0.shape[0])"
   ],
   "metadata": {
    "collapsed": false
   }
  },
  {
   "cell_type": "markdown",
   "source": [
    "### Распределяю недвижимость по городам относительно численности населения"
   ],
   "metadata": {
    "collapsed": false
   }
  },
  {
   "cell_type": "code",
   "execution_count": 48,
   "outputs": [
    {
     "name": "stdout",
     "output_type": "stream",
     "text": [
      "(18569, 45)\n",
      "(21554, 45)\n",
      "(28702, 45)\n",
      "68825\n"
     ]
    }
   ],
   "source": [
    "msk_spb = [city_mapping['Москва'], city_mapping['Санкт-Петербург']]\n",
    "moscow_spb = df7[df7['city'].isin(msk_spb)]\n",
    "print(moscow_spb.shape)\n",
    "population_gt_1M = df7[(df7['osm_city_nearest_population'] >= 1e6) & (~df7['city'].isin(msk_spb))]\n",
    "print(population_gt_1M.shape)\n",
    "# TODO сделать больше категорий для малых городов, если точность предсказаний будет низкой (использовать сторонние источники с численностью населения городов, так как osm_city_nearest_population для малых городов не подходит)\n",
    "population_lt_100K = df7[(df7['osm_city_nearest_population'] < 1e6) & (~df7['city'].isin(msk_spb))]\n",
    "print(population_lt_100K.shape)\n",
    "print(moscow_spb.shape[0] + population_gt_1M.shape[0] + population_lt_100K.shape[0])"
   ],
   "metadata": {
    "collapsed": false
   }
  },
  {
   "cell_type": "code",
   "execution_count": 49,
   "outputs": [],
   "source": [
    "moscow_spb.to_csv('./data/test/moscow_spb.csv')\n",
    "population_gt_1M.to_csv('./data/test/population_gt_1M.csv')\n",
    "population_lt_100K.to_csv('./data/test/population_lt_100K.csv')"
   ],
   "metadata": {
    "collapsed": false
   }
  }
 ],
 "metadata": {
  "kernelspec": {
   "display_name": "Python 3",
   "language": "python",
   "name": "python3"
  },
  "language_info": {
   "codemirror_mode": {
    "name": "ipython",
    "version": 2
   },
   "file_extension": ".py",
   "mimetype": "text/x-python",
   "name": "python",
   "nbconvert_exporter": "python",
   "pygments_lexer": "ipython2",
   "version": "2.7.6"
  }
 },
 "nbformat": 4,
 "nbformat_minor": 0
}
