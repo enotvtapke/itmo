{
 "cells": [
  {
   "cell_type": "code",
   "execution_count": 1,
   "metadata": {
    "collapsed": true
   },
   "outputs": [],
   "source": [
    "import pandas as pd\n",
    "from matplotlib import pyplot as plt\n",
    "from sklearn.linear_model import LinearRegression\n",
    "from sklearn.metrics import mean_absolute_percentage_error\n",
    "from sklearn.model_selection import train_test_split\n",
    "from sklearn.preprocessing import StandardScaler, OneHotEncoder"
   ]
  },
  {
   "cell_type": "code",
   "execution_count": 2,
   "outputs": [
    {
     "data": {
      "text/plain": "<AxesSubplot:>"
     },
     "execution_count": 2,
     "metadata": {},
     "output_type": "execute_result"
    },
    {
     "data": {
      "text/plain": "<Figure size 432x288 with 1 Axes>",
      "image/png": "[encoded data removed]"
     },
     "metadata": {
      "needs_background": "light"
     },
     "output_type": "display_data"
    }
   ],
   "source": [
    "df0 = pd.read_csv('./data/processed/moscow_spb.csv')\n",
    "df0.per_square_meter_price.hist(bins=50)"
   ],
   "metadata": {
    "collapsed": false
   }
  },
  {
   "cell_type": "code",
   "execution_count": 3,
   "outputs": [
    {
     "name": "stderr",
     "output_type": "stream",
     "text": [
      "C:\\Users\\super\\AppData\\Local\\Temp\\ipykernel_15376\\592342821.py:15: SettingWithCopyWarning: \n",
      "A value is trying to be set on a copy of a slice from a DataFrame.\n",
      "Try using .loc[row_indexer,col_indexer] = value instead\n",
      "\n",
      "See the caveats in the documentation: https://pandas.pydata.org/pandas-docs/stable/user_guide/indexing.html#returning-a-view-versus-a-copy\n",
      "  df.osm_city_closest_dist = df.apply(lambda it: f(it), axis=1)\n",
      "C:\\Users\\super\\AppData\\Local\\Temp\\ipykernel_15376\\592342821.py:19: SettingWithCopyWarning: \n",
      "A value is trying to be set on a copy of a slice from a DataFrame.\n",
      "Try using .loc[row_indexer,col_indexer] = value instead\n",
      "\n",
      "See the caveats in the documentation: https://pandas.pydata.org/pandas-docs/stable/user_guide/indexing.html#returning-a-view-versus-a-copy\n",
      "  df[columns_to_scale] = StandardScaler().fit_transform(df[columns_to_scale])\n"
     ]
    },
    {
     "data": {
      "text/plain": "    per_square_meter_price      city  osm_city_closest_dist  \\\n0                17.143440 -0.621515               0.060267   \n1                17.140066  1.608970              -0.061503   \n2                16.644414  1.608970               0.042562   \n3                17.283452 -0.621515               0.756577   \n4                16.709324 -0.621515              -0.845642   \n..                     ...       ...                    ...   \n95               18.086394 -0.621515               1.304816   \n96               17.252846  1.608970               0.751809   \n97               18.339374 -0.621515               0.870141   \n98               17.953295 -0.621515               0.060683   \n99               15.891648 -0.621515               0.606666   \n\n    osm_subway_closest_dist  osm_city_nearest_population  realty_type_10  \\\n0                 -0.259196                    -1.313556             0.0   \n1                 -0.370535                    -0.322607             1.0   \n2                 -0.209247                    -0.322607             0.0   \n3                 -0.255507                     1.037040             1.0   \n4                 -0.353403                     1.037040             0.0   \n..                      ...                          ...             ...   \n95                -0.258701                     1.037040             0.0   \n96                 1.262462                    -0.322607             0.0   \n97                -0.226374                     1.037040             0.0   \n98                -0.153922                     1.037040             0.0   \n99                 0.054334                    -1.290089             0.0   \n\n    realty_type_100  realty_type_110  amenity_points  building_points  \\\n0               0.0              1.0       -0.369688         0.022215   \n1               0.0              0.0       -0.244903        -0.683785   \n2               0.0              1.0       -0.123862        -0.683785   \n3               0.0              0.0       -0.314783        -0.401385   \n4               1.0              0.0        1.145200         0.234015   \n..              ...              ...             ...              ...   \n95              0.0              1.0       -0.352218         0.022215   \n96              1.0              0.0       -0.588061        -0.683785   \n97              1.0              0.0        0.017145        -0.542585   \n98              0.0              1.0       -0.256134        -0.471985   \n99              0.0              1.0       -0.770247        -0.471985   \n\n    catering_points  crossing_points  culture_points  finance_points  \\\n0         -0.419500        -0.476218       -0.527752       -0.718367   \n1         -0.256237         0.609027       -0.050515        0.021807   \n2         -0.167184         0.002716       -0.408443       -0.787758   \n3         -0.449184        -0.608689       -0.487983       -0.695236   \n4          1.736315         1.724842        1.082924        3.051896   \n..              ...              ...             ...             ...   \n95        -0.486289        -0.756446       -0.368673       -0.510193   \n96        -0.460316        -0.297891       -0.527752       -0.741497   \n97        -0.337868        -0.929677       -0.487983       -0.394541   \n98        -0.467737         0.583552       -0.388558       -0.325149   \n99        -0.631000        -0.486408       -0.527752       -0.718367   \n\n    healthcare_points  historic_points  hotels_points  leisure_points  \\\n0           -0.494602        -0.500636      -0.243012       -0.531850   \n1            0.041167        -0.023418      -0.443851       -0.895211   \n2            0.338817        -0.553660      -0.316044       -0.453986   \n3           -0.296169        -0.518311      -0.334302       -0.402078   \n4            2.025497         0.135655       0.615117        0.117011   \n..                ...              ...            ...             ...   \n95          -0.415228        -0.482961      -0.443851       -0.116579   \n96          -0.732721        -0.500636      -0.443851       -0.843303   \n97           0.199914        -0.253189      -0.389077        2.426954   \n98          -0.296169        -0.500636      -0.261270        0.246783   \n99          -0.633505        -0.553660      -0.443851       -1.050938   \n\n    offices_points  shops_points  \n0        -0.699086     -0.261847  \n1        -0.359318     -0.232254  \n2        -0.404621      0.056281  \n3        -0.189434     -0.099084  \n4         0.977101      0.768987  \n..             ...           ...  \n95       -0.665109     -0.111414  \n96       -0.517876     -0.449271  \n97       -0.585830      0.149993  \n98       -0.212086     -0.202660  \n99       -0.619807     -0.757535  \n\n[100 rows x 20 columns]",
      "text/html": "<div>\n<style scoped>\n    .dataframe tbody tr th:only-of-type {\n        vertical-align: middle;\n    }\n\n    .dataframe tbody tr th {\n        vertical-align: top;\n    }\n\n    .dataframe thead th {\n        text-align: right;\n    }\n</style>\n<table border=\"1\" class=\"dataframe\">\n  <thead>\n    <tr style=\"text-align: right;\">\n      <th></th>\n      <th>per_square_meter_price</th>\n      <th>city</th>\n      <th>osm_city_closest_dist</th>\n      <th>osm_subway_closest_dist</th>\n      <th>osm_city_nearest_population</th>\n      <th>realty_type_10</th>\n      <th>realty_type_100</th>\n      <th>realty_type_110</th>\n      <th>amenity_points</th>\n      <th>building_points</th>\n      <th>catering_points</th>\n      <th>crossing_points</th>\n      <th>culture_points</th>\n      <th>finance_points</th>\n      <th>healthcare_points</th>\n      <th>historic_points</th>\n      <th>hotels_points</th>\n      <th>leisure_points</th>\n      <th>offices_points</th>\n      <th>shops_points</th>\n    </tr>\n  </thead>\n  <tbody>\n    <tr>\n      <th>0</th>\n      <td>17.143440</td>\n      <td>-0.621515</td>\n      <td>0.060267</td>\n      <td>-0.259196</td>\n      <td>-1.313556</td>\n      <td>0.0</td>\n      <td>0.0</td>\n      <td>1.0</td>\n      <td>-0.369688</td>\n      <td>0.022215</td>\n      <td>-0.419500</td>\n      <td>-0.476218</td>\n      <td>-0.527752</td>\n      <td>-0.718367</td>\n      <td>-0.494602</td>\n      <td>-0.500636</td>\n      <td>-0.243012</td>\n      <td>-0.531850</td>\n      <td>-0.699086</td>\n      <td>-0.261847</td>\n    </tr>\n    <tr>\n      <th>1</th>\n      <td>17.140066</td>\n      <td>1.608970</td>\n      <td>-0.061503</td>\n      <td>-0.370535</td>\n      <td>-0.322607</td>\n      <td>1.0</td>\n      <td>0.0</td>\n      <td>0.0</td>\n      <td>-0.244903</td>\n      <td>-0.683785</td>\n      <td>-0.256237</td>\n      <td>0.609027</td>\n      <td>-0.050515</td>\n      <td>0.021807</td>\n      <td>0.041167</td>\n      <td>-0.023418</td>\n      <td>-0.443851</td>\n      <td>-0.895211</td>\n      <td>-0.359318</td>\n      <td>-0.232254</td>\n    </tr>\n    <tr>\n      <th>2</th>\n      <td>16.644414</td>\n      <td>1.608970</td>\n      <td>0.042562</td>\n      <td>-0.209247</td>\n      <td>-0.322607</td>\n      <td>0.0</td>\n      <td>0.0</td>\n      <td>1.0</td>\n      <td>-0.123862</td>\n      <td>-0.683785</td>\n      <td>-0.167184</td>\n      <td>0.002716</td>\n      <td>-0.408443</td>\n      <td>-0.787758</td>\n      <td>0.338817</td>\n      <td>-0.553660</td>\n      <td>-0.316044</td>\n      <td>-0.453986</td>\n      <td>-0.404621</td>\n      <td>0.056281</td>\n    </tr>\n    <tr>\n      <th>3</th>\n      <td>17.283452</td>\n      <td>-0.621515</td>\n      <td>0.756577</td>\n      <td>-0.255507</td>\n      <td>1.037040</td>\n      <td>1.0</td>\n      <td>0.0</td>\n      <td>0.0</td>\n      <td>-0.314783</td>\n      <td>-0.401385</td>\n      <td>-0.449184</td>\n      <td>-0.608689</td>\n      <td>-0.487983</td>\n      <td>-0.695236</td>\n      <td>-0.296169</td>\n      <td>-0.518311</td>\n      <td>-0.334302</td>\n      <td>-0.402078</td>\n      <td>-0.189434</td>\n      <td>-0.099084</td>\n    </tr>\n    <tr>\n      <th>4</th>\n      <td>16.709324</td>\n      <td>-0.621515</td>\n      <td>-0.845642</td>\n      <td>-0.353403</td>\n      <td>1.037040</td>\n      <td>0.0</td>\n      <td>1.0</td>\n      <td>0.0</td>\n      <td>1.145200</td>\n      <td>0.234015</td>\n      <td>1.736315</td>\n      <td>1.724842</td>\n      <td>1.082924</td>\n      <td>3.051896</td>\n      <td>2.025497</td>\n      <td>0.135655</td>\n      <td>0.615117</td>\n      <td>0.117011</td>\n      <td>0.977101</td>\n      <td>0.768987</td>\n    </tr>\n    <tr>\n      <th>...</th>\n      <td>...</td>\n      <td>...</td>\n      <td>...</td>\n      <td>...</td>\n      <td>...</td>\n      <td>...</td>\n      <td>...</td>\n      <td>...</td>\n      <td>...</td>\n      <td>...</td>\n      <td>...</td>\n      <td>...</td>\n      <td>...</td>\n      <td>...</td>\n      <td>...</td>\n      <td>...</td>\n      <td>...</td>\n      <td>...</td>\n      <td>...</td>\n      <td>...</td>\n    </tr>\n    <tr>\n      <th>95</th>\n      <td>18.086394</td>\n      <td>-0.621515</td>\n      <td>1.304816</td>\n      <td>-0.258701</td>\n      <td>1.037040</td>\n      <td>0.0</td>\n      <td>0.0</td>\n      <td>1.0</td>\n      <td>-0.352218</td>\n      <td>0.022215</td>\n      <td>-0.486289</td>\n      <td>-0.756446</td>\n      <td>-0.368673</td>\n      <td>-0.510193</td>\n      <td>-0.415228</td>\n      <td>-0.482961</td>\n      <td>-0.443851</td>\n      <td>-0.116579</td>\n      <td>-0.665109</td>\n      <td>-0.111414</td>\n    </tr>\n    <tr>\n      <th>96</th>\n      <td>17.252846</td>\n      <td>1.608970</td>\n      <td>0.751809</td>\n      <td>1.262462</td>\n      <td>-0.322607</td>\n      <td>0.0</td>\n      <td>1.0</td>\n      <td>0.0</td>\n      <td>-0.588061</td>\n      <td>-0.683785</td>\n      <td>-0.460316</td>\n      <td>-0.297891</td>\n      <td>-0.527752</td>\n      <td>-0.741497</td>\n      <td>-0.732721</td>\n      <td>-0.500636</td>\n      <td>-0.443851</td>\n      <td>-0.843303</td>\n      <td>-0.517876</td>\n      <td>-0.449271</td>\n    </tr>\n    <tr>\n      <th>97</th>\n      <td>18.339374</td>\n      <td>-0.621515</td>\n      <td>0.870141</td>\n      <td>-0.226374</td>\n      <td>1.037040</td>\n      <td>0.0</td>\n      <td>1.0</td>\n      <td>0.0</td>\n      <td>0.017145</td>\n      <td>-0.542585</td>\n      <td>-0.337868</td>\n      <td>-0.929677</td>\n      <td>-0.487983</td>\n      <td>-0.394541</td>\n      <td>0.199914</td>\n      <td>-0.253189</td>\n      <td>-0.389077</td>\n      <td>2.426954</td>\n      <td>-0.585830</td>\n      <td>0.149993</td>\n    </tr>\n    <tr>\n      <th>98</th>\n      <td>17.953295</td>\n      <td>-0.621515</td>\n      <td>0.060683</td>\n      <td>-0.153922</td>\n      <td>1.037040</td>\n      <td>0.0</td>\n      <td>0.0</td>\n      <td>1.0</td>\n      <td>-0.256134</td>\n      <td>-0.471985</td>\n      <td>-0.467737</td>\n      <td>0.583552</td>\n      <td>-0.388558</td>\n      <td>-0.325149</td>\n      <td>-0.296169</td>\n      <td>-0.500636</td>\n      <td>-0.261270</td>\n      <td>0.246783</td>\n      <td>-0.212086</td>\n      <td>-0.202660</td>\n    </tr>\n    <tr>\n      <th>99</th>\n      <td>15.891648</td>\n      <td>-0.621515</td>\n      <td>0.606666</td>\n      <td>0.054334</td>\n      <td>-1.290089</td>\n      <td>0.0</td>\n      <td>0.0</td>\n      <td>1.0</td>\n      <td>-0.770247</td>\n      <td>-0.471985</td>\n      <td>-0.631000</td>\n      <td>-0.486408</td>\n      <td>-0.527752</td>\n      <td>-0.718367</td>\n      <td>-0.633505</td>\n      <td>-0.553660</td>\n      <td>-0.443851</td>\n      <td>-1.050938</td>\n      <td>-0.619807</td>\n      <td>-0.757535</td>\n    </tr>\n  </tbody>\n</table>\n<p>100 rows × 20 columns</p>\n</div>"
     },
     "execution_count": 3,
     "metadata": {},
     "output_type": "execute_result"
    }
   ],
   "source": [
    "realty_type_categories = ['realty_type_10', 'realty_type_100', 'realty_type_110']\n",
    "points_types = ['amenity_points', 'building_points', 'catering_points', 'crossing_points', 'culture_points',\n",
    "                'finance_points', 'healthcare_points', 'historic_points', 'hotels_points', 'leisure_points',\n",
    "                'offices_points', 'shops_points']\n",
    "\n",
    "columns = ['per_square_meter_price', 'city', 'osm_city_closest_dist', 'osm_subway_closest_dist', 'osm_city_nearest_population'] + realty_type_categories + points_types\n",
    "\n",
    "df = df0[columns]\n",
    "\n",
    "def f(it):\n",
    "       if it.osm_city_closest_dist < it.osm_subway_closest_dist:\n",
    "              return 2 * it.osm_subway_closest_dist\n",
    "       else:\n",
    "              return it.osm_city_closest_dist\n",
    "df.osm_city_closest_dist = df.apply(lambda it: f(it), axis=1)\n",
    "\n",
    "target_col = 'per_square_meter_price'\n",
    "columns_to_scale = ['city', 'osm_city_closest_dist', 'osm_subway_closest_dist', 'osm_city_nearest_population'] + points_types\n",
    "df[columns_to_scale] = StandardScaler().fit_transform(df[columns_to_scale])\n",
    "\n",
    "df.head(100)"
   ],
   "metadata": {
    "collapsed": false
   }
  },
  {
   "cell_type": "code",
   "execution_count": 4,
   "outputs": [
    {
     "name": "stdout",
     "output_type": "stream",
     "text": [
      "1.124342697122188\n",
      "1.1817280894450797\n"
     ]
    }
   ],
   "source": [
    "mape_mean = 0\n",
    "baseline_mean = 0\n",
    "n = 50\n",
    "for _ in range(n):\n",
    "       train, test = train_test_split(df, test_size=0.5)\n",
    "\n",
    "       baseline = pd.Series([train.per_square_meter_price.mean()] * len(test))\n",
    "\n",
    "       train_x, train_y = train.drop(target_col, axis=1), train[target_col]\n",
    "       test_x, test_y = test.drop(target_col, axis=1), test[target_col]\n",
    "\n",
    "\n",
    "\n",
    "       model = LinearRegression()\n",
    "       model.fit(train_x, train_y)\n",
    "\n",
    "       pred = model.predict(test_x)\n",
    "       mape_mean += mean_absolute_percentage_error(2**test_y, 2**pred)\n",
    "       baseline_mean += mean_absolute_percentage_error(2 ** test_y, 2 ** baseline)\n",
    "print(mape_mean / n)\n",
    "print(baseline_mean / n)"
   ],
   "metadata": {
    "collapsed": false
   }
  },
  {
   "cell_type": "markdown",
   "source": [
    "### Forecasting"
   ],
   "metadata": {
    "collapsed": false
   }
  },
  {
   "cell_type": "code",
   "execution_count": 5,
   "outputs": [
    {
     "name": "stdout",
     "output_type": "stream",
     "text": [
      "     city  floor          id        lat        lng  osm_city_closest_dist  \\\n",
      "id                                                                          \n",
      "0       0    1.0  COL_164098  55.700000  37.752365               9.188121   \n",
      "7       0    1.0  COL_205915  55.715042  37.894173               4.085305   \n",
      "12     11    NaN   COL_49322  59.946625  30.264826               2.995279   \n",
      "14      0    1.0  COL_230193  55.794365  37.491142              10.944283   \n",
      "18     11    NaN   COL_18655  59.934578  30.275497               2.316197   \n",
      "..    ...    ...         ...        ...        ...                    ...   \n",
      "332     0    NaN  COL_168071  55.654600  37.757000               8.976514   \n",
      "333     0    1.0  COL_247566  55.793915  37.612316               4.845881   \n",
      "345     0    1.0  COL_224295  55.714370  37.896930               4.015370   \n",
      "347    11    NaN   COL_45040  59.981873  30.364054               5.487957   \n",
      "349     0    1.0  COL_244204  55.617270  37.411472              10.568343   \n",
      "\n",
      "    osm_city_nearest_name  osm_city_nearest_population  \\\n",
      "id                                                       \n",
      "0                 Люберцы                     189123.0   \n",
      "7                 Люберцы                     189123.0   \n",
      "12        Санкт-Петербург                    5381736.0   \n",
      "14                  Химки                     232066.0   \n",
      "18        Санкт-Петербург                    5381736.0   \n",
      "..                    ...                          ...   \n",
      "332               Люберцы                     189123.0   \n",
      "333                Москва                   12630289.0   \n",
      "345               Люберцы                     189123.0   \n",
      "347       Санкт-Петербург                    5381736.0   \n",
      "349              Одинцово                     141429.0   \n",
      "\n",
      "     osm_crossing_closest_dist  osm_subway_closest_dist  ...  finance_points  \\\n",
      "id                                                       ...                   \n",
      "0                     0.075644                 1.014241  ...              64   \n",
      "7                     0.164188                 0.838032  ...              52   \n",
      "12                    0.014594                 0.703143  ...              92   \n",
      "14                    0.029391                 0.200091  ...             396   \n",
      "18                    0.020170                 0.946484  ...             204   \n",
      "..                         ...                      ...  ...             ...   \n",
      "332                   0.043706                 0.690608  ...             132   \n",
      "333                   0.082926                 0.297979  ...             236   \n",
      "345                   0.211552                 0.699818  ...              44   \n",
      "347                   0.233118                 1.139884  ...               0   \n",
      "349                   0.329525                 0.948690  ...               0   \n",
      "\n",
      "     healthcare_points  historic_points  hotels_points  leisure_points  \\\n",
      "id                                                                       \n",
      "0                   84               36             32             152   \n",
      "7                  272               84             28             536   \n",
      "12                 232              164            140              64   \n",
      "14                 312              136             24              96   \n",
      "18                 344              772            160             104   \n",
      "..                 ...              ...            ...             ...   \n",
      "332                100               24             28             168   \n",
      "333                256               80             12             200   \n",
      "345                224               80             28             504   \n",
      "347                 52                0              0              28   \n",
      "349                 28                0              0               0   \n",
      "\n",
      "     offices_points  shops_points  realty_type_10  realty_type_100  \\\n",
      "id                                                                   \n",
      "0                28           696             0.0              1.0   \n",
      "7               112          3064             1.0              0.0   \n",
      "12              332          2832             0.0              1.0   \n",
      "14              152          2812             1.0              0.0   \n",
      "18              616          2468             1.0              0.0   \n",
      "..              ...           ...             ...              ...   \n",
      "332             124          1764             0.0              0.0   \n",
      "333             240          2008             0.0              0.0   \n",
      "345              64          2368             1.0              0.0   \n",
      "347              16           520             0.0              1.0   \n",
      "349               0            36             0.0              0.0   \n",
      "\n",
      "     realty_type_110  \n",
      "id                    \n",
      "0                0.0  \n",
      "7                0.0  \n",
      "12               0.0  \n",
      "14               0.0  \n",
      "18               0.0  \n",
      "..               ...  \n",
      "332              1.0  \n",
      "333              1.0  \n",
      "345              0.0  \n",
      "347              0.0  \n",
      "349              1.0  \n",
      "\n",
      "[100 rows x 45 columns]\n",
      "(18569, 45)\n"
     ]
    }
   ],
   "source": [
    "df0 = pd.read_csv('./data/test/moscow_spb.csv')\n",
    "df0.set_index('Unnamed: 0', inplace=True)\n",
    "df0.index.name='id'\n",
    "print(df0.head(100))\n",
    "print(df0.shape)"
   ],
   "metadata": {
    "collapsed": false
   }
  },
  {
   "cell_type": "code",
   "execution_count": 6,
   "outputs": [
    {
     "name": "stdout",
     "output_type": "stream",
     "text": [
      "         city  osm_city_closest_dist  osm_subway_closest_dist  \\\n",
      "id                                                              \n",
      "0   -0.572603               0.272583                -0.102444   \n",
      "7   -0.572603              -0.578321                -0.161945   \n",
      "12   1.746409              -0.760085                -0.207493   \n",
      "14  -0.572603               0.565427                -0.377361   \n",
      "18   1.746409              -0.873323                -0.125324   \n",
      "..        ...                    ...                      ...   \n",
      "332 -0.572603               0.237297                -0.211726   \n",
      "333 -0.572603              -0.451493                -0.344306   \n",
      "345 -0.572603              -0.589983                -0.208616   \n",
      "347  1.746409              -0.344426                -0.060018   \n",
      "349 -0.572603               0.502738                -0.124579   \n",
      "\n",
      "     osm_city_nearest_population  realty_type_10  realty_type_100  \\\n",
      "id                                                                  \n",
      "0                      -1.372170             0.0              1.0   \n",
      "7                      -1.372170             1.0              0.0   \n",
      "12                     -0.403684             0.0              1.0   \n",
      "14                     -1.364161             1.0              0.0   \n",
      "18                     -0.403684             1.0              0.0   \n",
      "..                           ...             ...              ...   \n",
      "332                    -1.372170             0.0              0.0   \n",
      "333                     0.948260             0.0              0.0   \n",
      "345                    -1.372170             1.0              0.0   \n",
      "347                    -0.403684             0.0              1.0   \n",
      "349                    -1.381066             0.0              0.0   \n",
      "\n",
      "     realty_type_110  amenity_points  building_points  catering_points  \\\n",
      "id                                                                       \n",
      "0                0.0       -0.667751        -0.590204        -0.638137   \n",
      "7                0.0        0.241035         1.862489        -0.550313   \n",
      "12               0.0        0.297980        -0.258759         0.027297   \n",
      "14               0.0        0.253819         0.205264        -0.131462   \n",
      "18               0.0        0.519947        -0.523915         0.250234   \n",
      "..               ...             ...              ...              ...   \n",
      "332              1.0       -0.186629        -0.722782        -0.374666   \n",
      "333              1.0        0.069040        -0.258759        -0.087550   \n",
      "345              0.0        0.027203         1.464755        -0.455734   \n",
      "347              0.0       -0.799072        -0.722782        -0.655026   \n",
      "349              1.0       -1.015228        -0.722782        -0.766494   \n",
      "\n",
      "     crossing_points  culture_points  finance_points  healthcare_points  \\\n",
      "id                                                                        \n",
      "0          -0.208732       -0.509521       -0.537924          -0.506675   \n",
      "7          -0.543130       -0.323921       -0.602070           0.364805   \n",
      "12          0.537607        0.165389       -0.388250           0.179384   \n",
      "14          0.227440       -0.509521        1.236779           0.550226   \n",
      "18          1.351795        0.165389        0.210445           0.698563   \n",
      "..               ...             ...             ...                ...   \n",
      "332        -0.547977       -0.425157       -0.174431          -0.432506   \n",
      "333         1.094938       -0.003338        0.381500           0.290637   \n",
      "345        -0.615826       -0.307048       -0.644834           0.142300   \n",
      "347        -0.984149       -0.560140       -0.880035          -0.655012   \n",
      "349        -1.216774       -0.560140       -0.880035          -0.766264   \n",
      "\n",
      "     historic_points  hotels_points  leisure_points  offices_points  \\\n",
      "id                                                                    \n",
      "0          -0.440999      -0.348403       -0.253413       -0.794709   \n",
      "7          -0.256073      -0.366167        2.173091       -0.561382   \n",
      "12          0.052136       0.131226       -0.809487        0.049713   \n",
      "14         -0.055737      -0.383931       -0.607278       -0.450274   \n",
      "18          2.394528       0.220046       -0.556726        0.838581   \n",
      "..               ...            ...             ...             ...   \n",
      "332        -0.487230      -0.366167       -0.152308       -0.528050   \n",
      "333        -0.271484      -0.437223        0.049900       -0.205836   \n",
      "345        -0.271484      -0.366167        1.970882       -0.694712   \n",
      "347        -0.579693      -0.490515       -1.036971       -0.828042   \n",
      "349        -0.579693      -0.490515       -1.213904       -0.872485   \n",
      "\n",
      "     shops_points  \n",
      "id                 \n",
      "0       -0.691576  \n",
      "7        0.702415  \n",
      "12       0.565842  \n",
      "14       0.554068  \n",
      "18       0.351563  \n",
      "..            ...  \n",
      "332     -0.062867  \n",
      "333      0.080771  \n",
      "345      0.292695  \n",
      "347     -0.795183  \n",
      "349     -1.080104  \n",
      "\n",
      "[100 rows x 19 columns]\n",
      "(18569, 19)\n"
     ]
    },
    {
     "name": "stderr",
     "output_type": "stream",
     "text": [
      "C:\\Users\\super\\AppData\\Local\\Temp\\ipykernel_15376\\1178050692.py:4: SettingWithCopyWarning: \n",
      "A value is trying to be set on a copy of a slice from a DataFrame.\n",
      "Try using .loc[row_indexer,col_indexer] = value instead\n",
      "\n",
      "See the caveats in the documentation: https://pandas.pydata.org/pandas-docs/stable/user_guide/indexing.html#returning-a-view-versus-a-copy\n",
      "  df.osm_city_closest_dist = df.apply(lambda it: f(it), axis=1)\n",
      "C:\\Users\\super\\AppData\\Local\\Temp\\ipykernel_15376\\1178050692.py:7: SettingWithCopyWarning: \n",
      "A value is trying to be set on a copy of a slice from a DataFrame.\n",
      "Try using .loc[row_indexer,col_indexer] = value instead\n",
      "\n",
      "See the caveats in the documentation: https://pandas.pydata.org/pandas-docs/stable/user_guide/indexing.html#returning-a-view-versus-a-copy\n",
      "  df[columns_to_scale] = StandardScaler().fit_transform(df[columns_to_scale])\n"
     ]
    }
   ],
   "source": [
    "columns.remove('per_square_meter_price') if 'per_square_meter_price' in columns else ''\n",
    "df = df0[columns]\n",
    "\n",
    "df.osm_city_closest_dist = df.apply(lambda it: f(it), axis=1)\n",
    "\n",
    "columns_to_scale = ['city', 'osm_city_closest_dist', 'osm_subway_closest_dist', 'osm_city_nearest_population'] + points_types\n",
    "df[columns_to_scale] = StandardScaler().fit_transform(df[columns_to_scale])\n",
    "\n",
    "print(df.head(100))\n",
    "print(df.shape)"
   ],
   "metadata": {
    "collapsed": false
   }
  },
  {
   "cell_type": "code",
   "execution_count": 7,
   "outputs": [],
   "source": [
    "pred = model.predict(df)\n",
    "\n",
    "res = pd.DataFrame(data=pred, columns=[target_col])\n",
    "res['id'] = df0.index.tolist()\n",
    "res.set_index('id', inplace=True)\n",
    "\n",
    "res.head(100)\n",
    "res.to_csv('./data/forecast/moscow_spb.csv')"
   ],
   "metadata": {
    "collapsed": false
   }
  }
 ],
 "metadata": {
  "kernelspec": {
   "display_name": "Python 3",
   "language": "python",
   "name": "python3"
  },
  "language_info": {
   "codemirror_mode": {
    "name": "ipython",
    "version": 2
   },
   "file_extension": ".py",
   "mimetype": "text/x-python",
   "name": "python",
   "nbconvert_exporter": "python",
   "pygments_lexer": "ipython2",
   "version": "2.7.6"
  }
 },
 "nbformat": 4,
 "nbformat_minor": 0
}
