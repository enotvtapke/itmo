{
 "cells": [
  {
   "cell_type": "code",
   "execution_count": 164,
   "metadata": {
    "collapsed": true
   },
   "outputs": [],
   "source": [
    "import pandas as pd\n",
    "from matplotlib import pyplot as plt\n",
    "from sklearn.linear_model import LinearRegression\n",
    "from sklearn.metrics import mean_absolute_percentage_error\n",
    "from sklearn.model_selection import train_test_split\n",
    "from sklearn.preprocessing import StandardScaler, OneHotEncoder"
   ]
  },
  {
   "cell_type": "code",
   "execution_count": 2,
   "outputs": [],
   "source": [
    "df0 = pd.read_csv('./data/processed/moscow_spb.csv')"
   ],
   "metadata": {
    "collapsed": false
   }
  },
  {
   "cell_type": "code",
   "execution_count": 304,
   "outputs": [
    {
     "name": "stderr",
     "output_type": "stream",
     "text": [
      "C:\\Users\\super\\AppData\\Local\\Temp\\ipykernel_6948\\2218750232.py:52: SettingWithCopyWarning: \n",
      "A value is trying to be set on a copy of a slice from a DataFrame.\n",
      "Try using .loc[row_indexer,col_indexer] = value instead\n",
      "\n",
      "See the caveats in the documentation: https://pandas.pydata.org/pandas-docs/stable/user_guide/indexing.html#returning-a-view-versus-a-copy\n",
      "  df.city = df.city.apply(lambda it: city_mapping[it])\n",
      "C:\\Users\\super\\AppData\\Local\\Temp\\ipykernel_6948\\2218750232.py:53: SettingWithCopyWarning: \n",
      "A value is trying to be set on a copy of a slice from a DataFrame.\n",
      "Try using .loc[row_indexer,col_indexer] = value instead\n",
      "\n",
      "See the caveats in the documentation: https://pandas.pydata.org/pandas-docs/stable/user_guide/indexing.html#returning-a-view-versus-a-copy\n",
      "  df.osm_city_nearest_name = df.osm_city_nearest_name.apply(lambda it: city_mapping2[it])\n"
     ]
    },
    {
     "name": "stdout",
     "output_type": "stream",
     "text": [
      "(1.0, 'per_square_meter_price')\n",
      "(0.32767420595867147, 'osm_finance_points_in_0.01')\n",
      "(0.3213024069645485, 'osm_finance_points_in_0.0075')\n",
      "(0.31604443075607497, 'osm_finance_points_in_0.005')\n",
      "(0.3132741027005676, 'osm_catering_points_in_0.005')\n",
      "(0.29988232817432653, 'osm_city_nearest_population')\n",
      "(0.298549203413635, 'osm_crossing_points_in_0.01')\n",
      "(0.2930841816434732, 'osm_amenity_points_in_0.005')\n",
      "(0.2841450187618277, 'osm_catering_points_in_0.0075')\n",
      "(0.2831594652021154, 'osm_catering_points_in_0.001')\n",
      "(0.28242830468475866, 'osm_crossing_points_in_0.0075')\n",
      "(0.2780654447947091, 'osm_amenity_points_in_0.01')\n",
      "(0.27759524396222807, 'osm_amenity_points_in_0.0075')\n",
      "(0.27261090054606707, 'osm_catering_points_in_0.01')\n",
      "(0.26583091126993774, 'osm_leisure_points_in_0.01')\n",
      "(0.2655152132788503, 'osm_crossing_points_in_0.005')\n",
      "(0.2597707139791097, 'osm_amenity_points_in_0.001')\n",
      "(0.24728419265277027, 'osm_shops_points_in_0.005')\n",
      "(0.24393092411421072, 'osm_shops_points_in_0.01')\n",
      "(0.24230639153989977, 'osm_culture_points_in_0.01')\n",
      "(0.23863081168465924, 'osm_shops_points_in_0.0075')\n",
      "(0.23848707293417806, 'osm_healthcare_points_in_0.01')\n",
      "(0.23518689238512636, 'osm_offices_points_in_0.005')\n",
      "(0.23498836192830994, 'osm_culture_points_in_0.0075')\n",
      "(0.22860920930513992, 'osm_city_closest_dist')\n",
      "(0.22646244058696158, 'osm_offices_points_in_0.0075')\n",
      "(0.22627854621445387, 'osm_historic_points_in_0.01')\n",
      "(0.22624650053689513, 'osm_culture_points_in_0.005')\n",
      "(0.22463777986275293, 'osm_offices_points_in_0.01')\n",
      "(0.22402866345403344, 'osm_leisure_points_in_0.0075')\n",
      "(0.21691831884878385, 'osm_healthcare_points_in_0.0075')\n",
      "(0.21583797890872164, 'osm_historic_points_in_0.0075')\n",
      "(0.21099378397367058, 'city')\n",
      "(0.2100439964762205, 'osm_transport_stop_points_in_0.01')\n",
      "(0.2054506833946162, 'osm_building_points_in_0.01')\n",
      "(0.20370972095651793, 'osm_leisure_points_in_0.005')\n",
      "(0.1896025200432304, 'osm_historic_points_in_0.005')\n",
      "(0.1857201464088914, 'osm_healthcare_points_in_0.005')\n",
      "(0.18413829934995535, 'osm_transport_stop_points_in_0.0075')\n",
      "(0.18306848431648418, 'osm_shops_points_in_0.001')\n",
      "(0.1797213518362651, 'osm_offices_points_in_0.001')\n",
      "(0.17446256596078502, 'osm_transport_stop_points_in_0.005')\n",
      "(0.17044878157296353, 'osm_building_points_in_0.0075')\n",
      "(0.16875269504095647, 'reform_count_of_houses_1000')\n",
      "(0.1647210445216348, 'osm_finance_points_in_0.001')\n",
      "(0.16257056846649015, 'osm_subway_closest_dist')\n",
      "(0.1619197657917946, 'osm_hotels_points_in_0.01')\n",
      "(0.15818173886428746, 'osm_hotels_points_in_0.0075')\n",
      "(0.15599840291981354, 'osm_culture_points_in_0.001')\n",
      "(0.15424643695494983, 'osm_hotels_points_in_0.005')\n",
      "(0.15051542789689848, 'osm_crossing_points_in_0.001')\n",
      "(0.14702564215750022, 'osm_crossing_closest_dist')\n",
      "(0.12942473973578877, 'osm_building_points_in_0.005')\n",
      "(0.11166174167368292, 'osm_train_stop_closest_dist')\n",
      "(0.10889916270005633, 'reform_count_of_houses_500')\n",
      "(0.10764982399451507, 'osm_transport_stop_closest_dist')\n",
      "(0.0870737275338085, 'osm_city_nearest_name')\n",
      "(0.08228434399656094, 'osm_train_stop_points_in_0.01')\n",
      "(0.07511563927923362, 'osm_train_stop_points_in_0.0075')\n",
      "(0.014035848059815682, 'osm_train_stop_points_in_0.005')\n",
      "(nan, 'reform_house_population_1000')\n",
      "(nan, 'reform_house_population_500')\n",
      "(nan, 'reform_mean_floor_count_1000')\n",
      "(nan, 'reform_mean_floor_count_500')\n",
      "(nan, 'reform_mean_year_building_1000')\n",
      "(nan, 'reform_mean_year_building_500')\n",
      "(0.21528357658594188, 'realty_type')\n",
      "(0.06076256153357513, 'total_square')\n",
      "(0.04228617952000077, 'osm_building_points_in_0.001')\n",
      "['osm_finance_points_in_0.01', 'osm_finance_points_in_0.0075', 'osm_finance_points_in_0.005', 'osm_catering_points_in_0.005', 'osm_city_nearest_population', 'osm_crossing_points_in_0.01', 'osm_amenity_points_in_0.005', 'osm_catering_points_in_0.0075', 'osm_catering_points_in_0.001', 'osm_crossing_points_in_0.0075', 'osm_amenity_points_in_0.01', 'osm_amenity_points_in_0.0075', 'osm_catering_points_in_0.01', 'osm_leisure_points_in_0.01', 'osm_crossing_points_in_0.005', 'osm_amenity_points_in_0.001', 'osm_shops_points_in_0.005', 'osm_shops_points_in_0.01', 'osm_culture_points_in_0.01', 'osm_shops_points_in_0.0075', 'osm_healthcare_points_in_0.01', 'osm_offices_points_in_0.005', 'osm_culture_points_in_0.0075', 'osm_city_closest_dist', 'osm_offices_points_in_0.0075', 'osm_historic_points_in_0.01', 'osm_culture_points_in_0.005', 'osm_offices_points_in_0.01', 'osm_leisure_points_in_0.0075', 'osm_healthcare_points_in_0.0075', 'osm_historic_points_in_0.0075', 'city', 'osm_transport_stop_points_in_0.01', 'osm_building_points_in_0.01', 'osm_leisure_points_in_0.005', 'osm_historic_points_in_0.005', 'osm_healthcare_points_in_0.005', 'osm_transport_stop_points_in_0.0075', 'osm_shops_points_in_0.001', 'osm_offices_points_in_0.001', 'osm_transport_stop_points_in_0.005', 'osm_building_points_in_0.0075', 'reform_count_of_houses_1000', 'osm_finance_points_in_0.001', 'osm_subway_closest_dist', 'osm_hotels_points_in_0.01', 'osm_hotels_points_in_0.0075', 'osm_culture_points_in_0.001', 'osm_hotels_points_in_0.005', 'osm_crossing_points_in_0.001', 'osm_crossing_closest_dist', 'osm_building_points_in_0.005', 'osm_train_stop_closest_dist', 'reform_count_of_houses_500', 'osm_transport_stop_closest_dist', 'osm_city_nearest_name', 'osm_train_stop_points_in_0.01', 'osm_train_stop_points_in_0.0075', 'osm_train_stop_points_in_0.005', 'reform_house_population_1000', 'reform_house_population_500', 'reform_mean_floor_count_1000', 'reform_mean_floor_count_500', 'reform_mean_year_building_1000', 'reform_mean_year_building_500', 'realty_type', 'total_square', 'osm_building_points_in_0.001']\n"
     ]
    }
   ],
   "source": [
    "def evaluate_correlation(df, target_col):\n",
    "       import statistics\n",
    "       cor = []\n",
    "       for (columnName, columnData) in df.items():\n",
    "           coef = statistics.correlation(columnData, target_col)\n",
    "           cor.append((abs(coef), columnName))\n",
    "       cor.sort(reverse=True)\n",
    "       print(*cor, sep='\\n')\n",
    "       sortedColumns = list(map(lambda it: it[1], cor))[1:]\n",
    "       print(sortedColumns)"
   ],
   "metadata": {
    "collapsed": false
   }
  },
  {
   "cell_type": "code",
   "execution_count": 309,
   "outputs": [
    {
     "name": "stderr",
     "output_type": "stream",
     "text": [
      "C:\\Users\\super\\AppData\\Local\\Temp\\ipykernel_6948\\2102313871.py:64: SettingWithCopyWarning: \n",
      "A value is trying to be set on a copy of a slice from a DataFrame.\n",
      "Try using .loc[row_indexer,col_indexer] = value instead\n",
      "\n",
      "See the caveats in the documentation: https://pandas.pydata.org/pandas-docs/stable/user_guide/indexing.html#returning-a-view-versus-a-copy\n",
      "  df.city = df.city.apply(lambda it: city_mapping[it])\n",
      "C:\\Users\\super\\AppData\\Local\\Temp\\ipykernel_6948\\2102313871.py:71: SettingWithCopyWarning: \n",
      "A value is trying to be set on a copy of a slice from a DataFrame.\n",
      "Try using .loc[row_indexer,col_indexer] = value instead\n",
      "\n",
      "See the caveats in the documentation: https://pandas.pydata.org/pandas-docs/stable/user_guide/indexing.html#returning-a-view-versus-a-copy\n",
      "  df.osm_city_closest_dist = df.apply(lambda it: f(it), axis=1)\n"
     ]
    },
    {
     "name": "stdout",
     "output_type": "stream",
     "text": [
      "(1.0, 'per_square_meter_price')\n",
      "(0.21940819998437072, 'finance_points')\n",
      "(0.2064670434556783, 'osm_city_nearest_population')\n",
      "(0.20632860432883338, 'catering_points')\n",
      "(0.19401205661242016, 'amenity_points')\n",
      "(0.19096890624989316, 'realty_type_10')\n",
      "(0.19027005513924444, 'crossing_points')\n",
      "(0.16803810095352187, 'offices_points')\n",
      "(0.16540493254218191, 'shops_points')\n",
      "(0.1608782324624508, 'leisure_points')\n",
      "(0.15676090448094146, 'culture_points')\n",
      "(0.15378353168401246, 'healthcare_points')\n",
      "(0.14855347394506543, 'osm_subway_closest_dist')\n",
      "(0.1435842291643267, 'osm_city_closest_dist')\n",
      "(0.14173142486763382, 'historic_points')\n",
      "(0.13199848036370426, 'city')\n",
      "(0.12556835063721897, 'realty_type_110')\n",
      "(0.11627005241878317, 'hotels_points')\n",
      "(0.10486484773432615, 'building_points')\n",
      "(0.0952041728711657, 'realty_type_100')\n",
      "['finance_points', 'osm_city_nearest_population', 'catering_points', 'amenity_points', 'realty_type_10', 'crossing_points', 'offices_points', 'shops_points', 'leisure_points', 'culture_points', 'healthcare_points', 'osm_subway_closest_dist', 'osm_city_closest_dist', 'historic_points', 'city', 'realty_type_110', 'hotels_points', 'building_points', 'realty_type_100']\n"
     ]
    },
    {
     "data": {
      "text/plain": "    per_square_meter_price  city  osm_city_closest_dist  \\\n0                17.143440     0               0.060267   \n1                17.140066     1              -0.061503   \n2                16.644414     1               0.042562   \n3                17.283452     0               0.756577   \n4                16.709324     0              -0.845642   \n..                     ...   ...                    ...   \n95               18.086394     0               1.304816   \n96               17.252846     1               0.751809   \n97               18.339374     0               0.870141   \n98               17.953295     0               0.060683   \n99               15.891648     0               0.606666   \n\n    osm_subway_closest_dist  osm_city_nearest_population  realty_type_10  \\\n0                 -0.259196                    -1.313556             0.0   \n1                 -0.370535                    -0.322607             1.0   \n2                 -0.209247                    -0.322607             0.0   \n3                 -0.255507                     1.037040             1.0   \n4                 -0.353403                     1.037040             0.0   \n..                      ...                          ...             ...   \n95                -0.258701                     1.037040             0.0   \n96                 1.262462                    -0.322607             0.0   \n97                -0.226374                     1.037040             0.0   \n98                -0.153922                     1.037040             0.0   \n99                 0.054334                    -1.290089             0.0   \n\n    realty_type_100  realty_type_110  amenity_points  building_points  \\\n0               0.0              1.0       -0.369688         0.022215   \n1               0.0              0.0       -0.244903        -0.683785   \n2               0.0              1.0       -0.123862        -0.683785   \n3               0.0              0.0       -0.314783        -0.401385   \n4               1.0              0.0        1.145200         0.234015   \n..              ...              ...             ...              ...   \n95              0.0              1.0       -0.352218         0.022215   \n96              1.0              0.0       -0.588061        -0.683785   \n97              1.0              0.0        0.017145        -0.542585   \n98              0.0              1.0       -0.256134        -0.471985   \n99              0.0              1.0       -0.770247        -0.471985   \n\n    catering_points  crossing_points  culture_points  finance_points  \\\n0         -0.419500        -0.476218       -0.527752       -0.718367   \n1         -0.256237         0.609027       -0.050515        0.021807   \n2         -0.167184         0.002716       -0.408443       -0.787758   \n3         -0.449184        -0.608689       -0.487983       -0.695236   \n4          1.736315         1.724842        1.082924        3.051896   \n..              ...              ...             ...             ...   \n95        -0.486289        -0.756446       -0.368673       -0.510193   \n96        -0.460316        -0.297891       -0.527752       -0.741497   \n97        -0.337868        -0.929677       -0.487983       -0.394541   \n98        -0.467737         0.583552       -0.388558       -0.325149   \n99        -0.631000        -0.486408       -0.527752       -0.718367   \n\n    healthcare_points  historic_points  hotels_points  leisure_points  \\\n0           -0.494602        -0.500636      -0.243012       -0.531850   \n1            0.041167        -0.023418      -0.443851       -0.895211   \n2            0.338817        -0.553660      -0.316044       -0.453986   \n3           -0.296169        -0.518311      -0.334302       -0.402078   \n4            2.025497         0.135655       0.615117        0.117011   \n..                ...              ...            ...             ...   \n95          -0.415228        -0.482961      -0.443851       -0.116579   \n96          -0.732721        -0.500636      -0.443851       -0.843303   \n97           0.199914        -0.253189      -0.389077        2.426954   \n98          -0.296169        -0.500636      -0.261270        0.246783   \n99          -0.633505        -0.553660      -0.443851       -1.050938   \n\n    offices_points  shops_points  \n0        -0.699086     -0.261847  \n1        -0.359318     -0.232254  \n2        -0.404621      0.056281  \n3        -0.189434     -0.099084  \n4         0.977101      0.768987  \n..             ...           ...  \n95       -0.665109     -0.111414  \n96       -0.517876     -0.449271  \n97       -0.585830      0.149993  \n98       -0.212086     -0.202660  \n99       -0.619807     -0.757535  \n\n[100 rows x 20 columns]",
      "text/html": "<div>\n<style scoped>\n    .dataframe tbody tr th:only-of-type {\n        vertical-align: middle;\n    }\n\n    .dataframe tbody tr th {\n        vertical-align: top;\n    }\n\n    .dataframe thead th {\n        text-align: right;\n    }\n</style>\n<table border=\"1\" class=\"dataframe\">\n  <thead>\n    <tr style=\"text-align: right;\">\n      <th></th>\n      <th>per_square_meter_price</th>\n      <th>city</th>\n      <th>osm_city_closest_dist</th>\n      <th>osm_subway_closest_dist</th>\n      <th>osm_city_nearest_population</th>\n      <th>realty_type_10</th>\n      <th>realty_type_100</th>\n      <th>realty_type_110</th>\n      <th>amenity_points</th>\n      <th>building_points</th>\n      <th>catering_points</th>\n      <th>crossing_points</th>\n      <th>culture_points</th>\n      <th>finance_points</th>\n      <th>healthcare_points</th>\n      <th>historic_points</th>\n      <th>hotels_points</th>\n      <th>leisure_points</th>\n      <th>offices_points</th>\n      <th>shops_points</th>\n    </tr>\n  </thead>\n  <tbody>\n    <tr>\n      <th>0</th>\n      <td>17.143440</td>\n      <td>0</td>\n      <td>0.060267</td>\n      <td>-0.259196</td>\n      <td>-1.313556</td>\n      <td>0.0</td>\n      <td>0.0</td>\n      <td>1.0</td>\n      <td>-0.369688</td>\n      <td>0.022215</td>\n      <td>-0.419500</td>\n      <td>-0.476218</td>\n      <td>-0.527752</td>\n      <td>-0.718367</td>\n      <td>-0.494602</td>\n      <td>-0.500636</td>\n      <td>-0.243012</td>\n      <td>-0.531850</td>\n      <td>-0.699086</td>\n      <td>-0.261847</td>\n    </tr>\n    <tr>\n      <th>1</th>\n      <td>17.140066</td>\n      <td>1</td>\n      <td>-0.061503</td>\n      <td>-0.370535</td>\n      <td>-0.322607</td>\n      <td>1.0</td>\n      <td>0.0</td>\n      <td>0.0</td>\n      <td>-0.244903</td>\n      <td>-0.683785</td>\n      <td>-0.256237</td>\n      <td>0.609027</td>\n      <td>-0.050515</td>\n      <td>0.021807</td>\n      <td>0.041167</td>\n      <td>-0.023418</td>\n      <td>-0.443851</td>\n      <td>-0.895211</td>\n      <td>-0.359318</td>\n      <td>-0.232254</td>\n    </tr>\n    <tr>\n      <th>2</th>\n      <td>16.644414</td>\n      <td>1</td>\n      <td>0.042562</td>\n      <td>-0.209247</td>\n      <td>-0.322607</td>\n      <td>0.0</td>\n      <td>0.0</td>\n      <td>1.0</td>\n      <td>-0.123862</td>\n      <td>-0.683785</td>\n      <td>-0.167184</td>\n      <td>0.002716</td>\n      <td>-0.408443</td>\n      <td>-0.787758</td>\n      <td>0.338817</td>\n      <td>-0.553660</td>\n      <td>-0.316044</td>\n      <td>-0.453986</td>\n      <td>-0.404621</td>\n      <td>0.056281</td>\n    </tr>\n    <tr>\n      <th>3</th>\n      <td>17.283452</td>\n      <td>0</td>\n      <td>0.756577</td>\n      <td>-0.255507</td>\n      <td>1.037040</td>\n      <td>1.0</td>\n      <td>0.0</td>\n      <td>0.0</td>\n      <td>-0.314783</td>\n      <td>-0.401385</td>\n      <td>-0.449184</td>\n      <td>-0.608689</td>\n      <td>-0.487983</td>\n      <td>-0.695236</td>\n      <td>-0.296169</td>\n      <td>-0.518311</td>\n      <td>-0.334302</td>\n      <td>-0.402078</td>\n      <td>-0.189434</td>\n      <td>-0.099084</td>\n    </tr>\n    <tr>\n      <th>4</th>\n      <td>16.709324</td>\n      <td>0</td>\n      <td>-0.845642</td>\n      <td>-0.353403</td>\n      <td>1.037040</td>\n      <td>0.0</td>\n      <td>1.0</td>\n      <td>0.0</td>\n      <td>1.145200</td>\n      <td>0.234015</td>\n      <td>1.736315</td>\n      <td>1.724842</td>\n      <td>1.082924</td>\n      <td>3.051896</td>\n      <td>2.025497</td>\n      <td>0.135655</td>\n      <td>0.615117</td>\n      <td>0.117011</td>\n      <td>0.977101</td>\n      <td>0.768987</td>\n    </tr>\n    <tr>\n      <th>...</th>\n      <td>...</td>\n      <td>...</td>\n      <td>...</td>\n      <td>...</td>\n      <td>...</td>\n      <td>...</td>\n      <td>...</td>\n      <td>...</td>\n      <td>...</td>\n      <td>...</td>\n      <td>...</td>\n      <td>...</td>\n      <td>...</td>\n      <td>...</td>\n      <td>...</td>\n      <td>...</td>\n      <td>...</td>\n      <td>...</td>\n      <td>...</td>\n      <td>...</td>\n    </tr>\n    <tr>\n      <th>95</th>\n      <td>18.086394</td>\n      <td>0</td>\n      <td>1.304816</td>\n      <td>-0.258701</td>\n      <td>1.037040</td>\n      <td>0.0</td>\n      <td>0.0</td>\n      <td>1.0</td>\n      <td>-0.352218</td>\n      <td>0.022215</td>\n      <td>-0.486289</td>\n      <td>-0.756446</td>\n      <td>-0.368673</td>\n      <td>-0.510193</td>\n      <td>-0.415228</td>\n      <td>-0.482961</td>\n      <td>-0.443851</td>\n      <td>-0.116579</td>\n      <td>-0.665109</td>\n      <td>-0.111414</td>\n    </tr>\n    <tr>\n      <th>96</th>\n      <td>17.252846</td>\n      <td>1</td>\n      <td>0.751809</td>\n      <td>1.262462</td>\n      <td>-0.322607</td>\n      <td>0.0</td>\n      <td>1.0</td>\n      <td>0.0</td>\n      <td>-0.588061</td>\n      <td>-0.683785</td>\n      <td>-0.460316</td>\n      <td>-0.297891</td>\n      <td>-0.527752</td>\n      <td>-0.741497</td>\n      <td>-0.732721</td>\n      <td>-0.500636</td>\n      <td>-0.443851</td>\n      <td>-0.843303</td>\n      <td>-0.517876</td>\n      <td>-0.449271</td>\n    </tr>\n    <tr>\n      <th>97</th>\n      <td>18.339374</td>\n      <td>0</td>\n      <td>0.870141</td>\n      <td>-0.226374</td>\n      <td>1.037040</td>\n      <td>0.0</td>\n      <td>1.0</td>\n      <td>0.0</td>\n      <td>0.017145</td>\n      <td>-0.542585</td>\n      <td>-0.337868</td>\n      <td>-0.929677</td>\n      <td>-0.487983</td>\n      <td>-0.394541</td>\n      <td>0.199914</td>\n      <td>-0.253189</td>\n      <td>-0.389077</td>\n      <td>2.426954</td>\n      <td>-0.585830</td>\n      <td>0.149993</td>\n    </tr>\n    <tr>\n      <th>98</th>\n      <td>17.953295</td>\n      <td>0</td>\n      <td>0.060683</td>\n      <td>-0.153922</td>\n      <td>1.037040</td>\n      <td>0.0</td>\n      <td>0.0</td>\n      <td>1.0</td>\n      <td>-0.256134</td>\n      <td>-0.471985</td>\n      <td>-0.467737</td>\n      <td>0.583552</td>\n      <td>-0.388558</td>\n      <td>-0.325149</td>\n      <td>-0.296169</td>\n      <td>-0.500636</td>\n      <td>-0.261270</td>\n      <td>0.246783</td>\n      <td>-0.212086</td>\n      <td>-0.202660</td>\n    </tr>\n    <tr>\n      <th>99</th>\n      <td>15.891648</td>\n      <td>0</td>\n      <td>0.606666</td>\n      <td>0.054334</td>\n      <td>-1.290089</td>\n      <td>0.0</td>\n      <td>0.0</td>\n      <td>1.0</td>\n      <td>-0.770247</td>\n      <td>-0.471985</td>\n      <td>-0.631000</td>\n      <td>-0.486408</td>\n      <td>-0.527752</td>\n      <td>-0.718367</td>\n      <td>-0.633505</td>\n      <td>-0.553660</td>\n      <td>-0.443851</td>\n      <td>-1.050938</td>\n      <td>-0.619807</td>\n      <td>-0.757535</td>\n    </tr>\n  </tbody>\n</table>\n<p>100 rows × 20 columns</p>\n</div>"
     },
     "execution_count": 309,
     "metadata": {},
     "output_type": "execute_result"
    },
    {
     "data": {
      "text/plain": "<Figure size 432x288 with 1 Axes>",
      "image/png": "[encoded data removed]"
     },
     "metadata": {
      "needs_background": "light"
     },
     "output_type": "display_data"
    }
   ],
   "source": [
    "from math import log2\n",
    "\n",
    "df0.per_square_meter_price.hist(bins=50)\n",
    "\n",
    "ohe = OneHotEncoder()\n",
    "oheRealtyType = ohe.fit_transform(df0[['realty_type']])\n",
    "realtyTypeCategories = list(map(lambda x: \"realty_type_\" + str(x),  ohe.categories_[0]))\n",
    "df0[realtyTypeCategories] = oheRealtyType.toarray()\n",
    "\n",
    "points_types = ['amenity_points', 'building_points', 'catering_points', 'crossing_points', 'culture_points', 'finance_points', 'healthcare_points', 'historic_points', 'hotels_points', 'leisure_points', 'offices_points', 'shops_points']\n",
    "\n",
    "for point_type in points_types:\n",
    "       df0[point_type] = 16 * df0[f'osm_{point_type}_in_0.005'] + \\\n",
    "                         8 * df0[f'osm_{point_type}_in_0.0075'] + \\\n",
    "                         4 * df0[f'osm_{point_type}_in_0.01']\n",
    "       if f'osm_{point_type}_in_0.001' in df0.columns:\n",
    "              df0[point_type] += 32 * df0[f'osm_{point_type}_in_0.001']\n",
    "\n",
    "columns = ['per_square_meter_price', 'city', 'osm_city_closest_dist', 'osm_subway_closest_dist', 'osm_city_nearest_population'] + realtyTypeCategories + points_types\n",
    "\n",
    "city_mapping = dict(\n",
    "    zip(\n",
    "        pd.unique(df0.city),\n",
    "        range(0, len(pd.unique(df0.city)))\n",
    "    )\n",
    ")\n",
    "df = df0[columns]\n",
    "df.city = df.city.apply(lambda it: city_mapping[it])\n",
    "\n",
    "def f(it):\n",
    "       if it.osm_city_closest_dist < it.osm_subway_closest_dist:\n",
    "              return 2 * it.osm_subway_closest_dist\n",
    "       else:\n",
    "              return it.osm_city_closest_dist\n",
    "df.osm_city_closest_dist = df.apply(lambda it: f(it), axis=1)\n",
    "df = df.assign(\n",
    "       per_square_meter_price = df.per_square_meter_price.apply(log2)\n",
    ")\n",
    "\n",
    "target_col = 'per_square_meter_price'\n",
    "columns_to_scale = ['osm_city_closest_dist', 'osm_subway_closest_dist', 'osm_city_nearest_population'] + points_types\n",
    "df[columns_to_scale] = StandardScaler().fit_transform(df[columns_to_scale])\n",
    "\n",
    "evaluate_correlation(df, df[target_col])\n",
    "\n",
    "df.head(100)"
   ],
   "metadata": {
    "collapsed": false
   }
  },
  {
   "cell_type": "code",
   "execution_count": 312,
   "outputs": [
    {
     "name": "stdout",
     "output_type": "stream",
     "text": [
      "1.1900541833709546\n",
      "1.2477894473502262\n"
     ]
    }
   ],
   "source": [
    "mean = 0\n",
    "mean1 = 0\n",
    "n = 50\n",
    "for _ in range(n):\n",
    "       train, test = train_test_split(df, test_size=0.5)\n",
    "\n",
    "       base_line = pd.Series([train.per_square_meter_price.mean()] * (len(train) + 1))\n",
    "\n",
    "       train_x, train_y = train.drop(target_col, axis=1), train[target_col]\n",
    "       test_x, test_y = test.drop(target_col, axis=1), test[target_col]\n",
    "\n",
    "\n",
    "\n",
    "       model = LinearRegression()\n",
    "       model.fit(train_x, train_y)\n",
    "\n",
    "       pred = model.predict(test_x)\n",
    "       mean += mean_absolute_percentage_error(2**test_y, 2**pred)\n",
    "       mean1 += mean_absolute_percentage_error(2 ** test_y, 2 ** base_line)\n",
    "print(mean / n)\n",
    "print(mean1 / n)"
   ],
   "metadata": {
    "collapsed": false
   }
  },
  {
   "cell_type": "code",
   "execution_count": null,
   "outputs": [],
   "source": [
    "columns_initial = ['city', 'floor', 'id', 'lat', 'lng', 'osm_amenity_points_in_0.001',\n",
    "       'osm_amenity_points_in_0.005', 'osm_amenity_points_in_0.0075',\n",
    "       'osm_amenity_points_in_0.01', 'osm_building_points_in_0.001',\n",
    "       'osm_building_points_in_0.005', 'osm_building_points_in_0.0075',\n",
    "       'osm_building_points_in_0.01', 'osm_catering_points_in_0.001',\n",
    "       'osm_catering_points_in_0.005', 'osm_catering_points_in_0.0075',\n",
    "       'osm_catering_points_in_0.01', 'osm_city_closest_dist',\n",
    "       'osm_city_nearest_name', 'osm_city_nearest_population',\n",
    "       'osm_crossing_closest_dist', 'osm_crossing_points_in_0.001',\n",
    "       'osm_crossing_points_in_0.005', 'osm_crossing_points_in_0.0075',\n",
    "       'osm_crossing_points_in_0.01', 'osm_culture_points_in_0.001',\n",
    "       'osm_culture_points_in_0.005', 'osm_culture_points_in_0.0075',\n",
    "       'osm_culture_points_in_0.01', 'osm_finance_points_in_0.001',\n",
    "       'osm_finance_points_in_0.005', 'osm_finance_points_in_0.0075',\n",
    "       'osm_finance_points_in_0.01', 'osm_healthcare_points_in_0.005',\n",
    "       'osm_healthcare_points_in_0.0075', 'osm_healthcare_points_in_0.01',\n",
    "       'osm_historic_points_in_0.005', 'osm_historic_points_in_0.0075',\n",
    "       'osm_historic_points_in_0.01', 'osm_hotels_points_in_0.005',\n",
    "       'osm_hotels_points_in_0.0075', 'osm_hotels_points_in_0.01',\n",
    "       'osm_leisure_points_in_0.005', 'osm_leisure_points_in_0.0075',\n",
    "       'osm_leisure_points_in_0.01', 'osm_offices_points_in_0.001',\n",
    "       'osm_offices_points_in_0.005', 'osm_offices_points_in_0.0075',\n",
    "       'osm_offices_points_in_0.01', 'osm_shops_points_in_0.001',\n",
    "       'osm_shops_points_in_0.005', 'osm_shops_points_in_0.0075',\n",
    "       'osm_shops_points_in_0.01', 'osm_subway_closest_dist',\n",
    "       'osm_train_stop_closest_dist', 'osm_train_stop_points_in_0.005',\n",
    "       'osm_train_stop_points_in_0.0075', 'osm_train_stop_points_in_0.01',\n",
    "       'osm_transport_stop_closest_dist', 'osm_transport_stop_points_in_0.005',\n",
    "       'osm_transport_stop_points_in_0.0075',\n",
    "       'osm_transport_stop_points_in_0.01', 'per_square_meter_price',\n",
    "       'reform_count_of_houses_1000', 'reform_count_of_houses_500',\n",
    "       'reform_house_population_1000', 'reform_house_population_500',\n",
    "       'reform_mean_floor_count_1000', 'reform_mean_floor_count_500',\n",
    "       'reform_mean_year_building_1000', 'reform_mean_year_building_500',\n",
    "       'region', 'total_square', 'street', 'date', 'realty_type']"
   ],
   "metadata": {
    "collapsed": false
   }
  }
 ],
 "metadata": {
  "kernelspec": {
   "display_name": "Python 3",
   "language": "python",
   "name": "python3"
  },
  "language_info": {
   "codemirror_mode": {
    "name": "ipython",
    "version": 2
   },
   "file_extension": ".py",
   "mimetype": "text/x-python",
   "name": "python",
   "nbconvert_exporter": "python",
   "pygments_lexer": "ipython2",
   "version": "2.7.6"
  }
 },
 "nbformat": 4,
 "nbformat_minor": 0
}
