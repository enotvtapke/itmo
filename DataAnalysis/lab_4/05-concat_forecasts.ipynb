{
 "cells": [
  {
   "cell_type": "code",
   "execution_count": 1,
   "metadata": {
    "collapsed": true
   },
   "outputs": [],
   "source": [
    "import pandas as pd\n",
    "from matplotlib import pyplot as plt\n",
    "from sklearn.linear_model import LinearRegression\n",
    "from sklearn.metrics import mean_absolute_percentage_error\n",
    "from sklearn.model_selection import train_test_split\n",
    "from sklearn.preprocessing import StandardScaler, OneHotEncoder"
   ]
  },
  {
   "cell_type": "code",
   "execution_count": 2,
   "outputs": [
    {
     "name": "stdout",
     "output_type": "stream",
     "text": [
      "    per_square_meter_price\n",
      "id                        \n",
      "0                17.028076\n",
      "1                14.804659\n",
      "2                15.424194\n",
      "3                15.068627\n",
      "4                15.276673\n",
      "..                     ...\n",
      "95               17.453857\n",
      "96               15.190674\n",
      "97               16.947998\n",
      "98               17.288574\n",
      "99               15.327865\n",
      "\n",
      "[100 rows x 1 columns]\n",
      "(68825, 1)\n"
     ]
    }
   ],
   "source": [
    "df0 = pd.read_csv('./data/forecast/moscow_spb.csv')\n",
    "df1= pd.read_csv('./data/forecast/population_gt_1M.csv')\n",
    "df2 = pd.read_csv('./data/forecast/population_lt_100K.csv')\n",
    "res = pd.concat([df0, df1, df2])\n",
    "res = res.sort_values('id')\n",
    "res.set_index('id', inplace=True)\n",
    "print(res.head(100))\n",
    "print(res.shape)\n",
    "res.to_csv('./data/forecast/final.csv')"
   ],
   "metadata": {
    "collapsed": false
   }
  }
 ],
 "metadata": {
  "kernelspec": {
   "display_name": "Python 3",
   "language": "python",
   "name": "python3"
  },
  "language_info": {
   "codemirror_mode": {
    "name": "ipython",
    "version": 2
   },
   "file_extension": ".py",
   "mimetype": "text/x-python",
   "name": "python",
   "nbconvert_exporter": "python",
   "pygments_lexer": "ipython2",
   "version": "2.7.6"
  }
 },
 "nbformat": 4,
 "nbformat_minor": 0
}
