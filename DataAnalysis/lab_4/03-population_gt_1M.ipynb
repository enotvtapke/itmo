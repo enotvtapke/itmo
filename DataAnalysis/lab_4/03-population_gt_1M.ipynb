{
 "cells": [
  {
   "cell_type": "code",
   "execution_count": 1,
   "metadata": {
    "collapsed": true
   },
   "outputs": [],
   "source": [
    "import pandas as pd\n",
    "from matplotlib import pyplot as plt\n",
    "from sklearn.linear_model import LinearRegression\n",
    "from sklearn.metrics import mean_absolute_percentage_error\n",
    "from sklearn.model_selection import train_test_split\n",
    "from sklearn.preprocessing import StandardScaler, OneHotEncoder"
   ]
  },
  {
   "cell_type": "code",
   "execution_count": 2,
   "outputs": [
    {
     "data": {
      "text/plain": "<AxesSubplot:>"
     },
     "execution_count": 2,
     "metadata": {},
     "output_type": "execute_result"
    },
    {
     "data": {
      "text/plain": "<Figure size 432x288 with 1 Axes>",
      "image/png": "[encoded data removed]"
     },
     "metadata": {
      "needs_background": "light"
     },
     "output_type": "display_data"
    }
   ],
   "source": [
    "df0 = pd.read_csv('./data/processed/population_gt_1M.csv')\n",
    "df0.per_square_meter_price.hist(bins=50)"
   ],
   "metadata": {
    "collapsed": false
   }
  },
  {
   "cell_type": "code",
   "execution_count": 3,
   "outputs": [
    {
     "name": "stderr",
     "output_type": "stream",
     "text": [
      "C:\\Users\\super\\AppData\\Local\\Temp\\ipykernel_3288\\1589001193.py:12: SettingWithCopyWarning: \n",
      "A value is trying to be set on a copy of a slice from a DataFrame.\n",
      "Try using .loc[row_indexer,col_indexer] = value instead\n",
      "\n",
      "See the caveats in the documentation: https://pandas.pydata.org/pandas-docs/stable/user_guide/indexing.html#returning-a-view-versus-a-copy\n",
      "  df[columns_to_scale] = StandardScaler().fit_transform(df[columns_to_scale])\n"
     ]
    },
    {
     "data": {
      "text/plain": "    per_square_meter_price      city  osm_city_closest_dist  \\\n0                15.017446 -0.505778              -0.544344   \n1                16.953762 -0.478759              -0.346137   \n2                15.701783 -0.465250              -0.124890   \n3                16.173566 -0.438231              -0.236165   \n4                15.063250 -0.370684               2.071921   \n..                     ...       ...                    ...   \n95               13.947375 -0.262608              -0.234291   \n96               15.743103 -0.357174              -0.033775   \n97               16.187371 -0.262608              -0.611464   \n98               16.017446 -0.357174              -0.138343   \n99               14.450352 -0.235589              -0.367964   \n\n    osm_city_nearest_population  realty_type_10  realty_type_100  \\\n0                     -0.319977             1.0              0.0   \n1                      0.773664             1.0              0.0   \n2                     -0.484999             0.0              1.0   \n3                     -0.679189             1.0              0.0   \n4                      0.250085             0.0              0.0   \n..                          ...             ...              ...   \n95                    -0.244348             1.0              0.0   \n96                    -0.438670             0.0              0.0   \n97                    -0.244348             0.0              0.0   \n98                    -0.438670             1.0              0.0   \n99                    -0.579673             0.0              0.0   \n\n    realty_type_110  amenity_points  building_points  catering_points  \\\n0               0.0        0.490392        -0.122150         0.411998   \n1               0.0       -0.280243        -0.164719        -0.269883   \n2               0.0       -0.458834        -0.171813        -0.524561   \n3               0.0        0.796200        -0.171813         0.600953   \n4               1.0       -0.999502        -0.171813        -0.631362   \n..              ...             ...              ...              ...   \n95              0.0       -0.549353        -0.171813        -0.467053   \n96              1.0       -0.395226        -0.171813        -0.565639   \n97              1.0        1.598638        -0.171813         1.430712   \n98              0.0       -0.299814        -0.171813        -0.319175   \n99              1.0       -0.326725        -0.129245        -0.310960   \n\n    crossing_points  culture_points  finance_points  healthcare_points  \\\n0          1.174679       -0.301143        1.868990           0.578601   \n1          0.636565        0.012840       -0.402637           0.330790   \n2         -0.380601       -0.443863       -0.609149          -0.412642   \n3         -0.820279       -0.443863       -0.284631           0.082979   \n4         -1.043399       -0.443863       -0.697654          -0.957826   \n..              ...             ...             ...                ...   \n95        -0.715281       -0.443863       -0.402637          -0.511767   \n96        -0.636533       -0.443863       -0.697654          -0.214394   \n97         1.771854        2.524708        0.924937           0.975098   \n98         0.223137       -0.443863       -0.078119           0.429915   \n99        -0.085294       -0.443863       -0.284631           0.578601   \n\n    historic_points  hotels_points  leisure_points  offices_points  \\\n0          0.251483      -0.485687        0.257660        0.945845   \n1         -0.480057      -0.565112       -0.555075       -0.111126   \n2         -0.480057      -0.485687       -0.507267       -0.626721   \n3         -0.283104      -0.485687       -0.459459       -0.652501   \n4         -0.480057      -0.565112       -0.794114       -0.729840   \n..              ...            ...             ...             ...   \n95         0.138939      -0.485687       -0.794114       -0.343144   \n96        -0.480057      -0.326836        0.974778       -0.446263   \n97         2.389832      -0.009135        2.169976        1.693459   \n98        -0.311240      -0.088560       -0.268227       -0.368923   \n99         0.026394      -0.326836        0.879163       -0.549382   \n\n    shops_points  \n0       0.343440  \n1      -0.144127  \n2      -0.328115  \n3       1.507161  \n4      -1.068665  \n..           ...  \n95     -0.558099  \n96     -0.249920  \n97      1.240379  \n98     -0.213123  \n99     -0.512102  \n\n[100 rows x 19 columns]",
      "text/html": "<div>\n<style scoped>\n    .dataframe tbody tr th:only-of-type {\n        vertical-align: middle;\n    }\n\n    .dataframe tbody tr th {\n        vertical-align: top;\n    }\n\n    .dataframe thead th {\n        text-align: right;\n    }\n</style>\n<table border=\"1\" class=\"dataframe\">\n  <thead>\n    <tr style=\"text-align: right;\">\n      <th></th>\n      <th>per_square_meter_price</th>\n      <th>city</th>\n      <th>osm_city_closest_dist</th>\n      <th>osm_city_nearest_population</th>\n      <th>realty_type_10</th>\n      <th>realty_type_100</th>\n      <th>realty_type_110</th>\n      <th>amenity_points</th>\n      <th>building_points</th>\n      <th>catering_points</th>\n      <th>crossing_points</th>\n      <th>culture_points</th>\n      <th>finance_points</th>\n      <th>healthcare_points</th>\n      <th>historic_points</th>\n      <th>hotels_points</th>\n      <th>leisure_points</th>\n      <th>offices_points</th>\n      <th>shops_points</th>\n    </tr>\n  </thead>\n  <tbody>\n    <tr>\n      <th>0</th>\n      <td>15.017446</td>\n      <td>-0.505778</td>\n      <td>-0.544344</td>\n      <td>-0.319977</td>\n      <td>1.0</td>\n      <td>0.0</td>\n      <td>0.0</td>\n      <td>0.490392</td>\n      <td>-0.122150</td>\n      <td>0.411998</td>\n      <td>1.174679</td>\n      <td>-0.301143</td>\n      <td>1.868990</td>\n      <td>0.578601</td>\n      <td>0.251483</td>\n      <td>-0.485687</td>\n      <td>0.257660</td>\n      <td>0.945845</td>\n      <td>0.343440</td>\n    </tr>\n    <tr>\n      <th>1</th>\n      <td>16.953762</td>\n      <td>-0.478759</td>\n      <td>-0.346137</td>\n      <td>0.773664</td>\n      <td>1.0</td>\n      <td>0.0</td>\n      <td>0.0</td>\n      <td>-0.280243</td>\n      <td>-0.164719</td>\n      <td>-0.269883</td>\n      <td>0.636565</td>\n      <td>0.012840</td>\n      <td>-0.402637</td>\n      <td>0.330790</td>\n      <td>-0.480057</td>\n      <td>-0.565112</td>\n      <td>-0.555075</td>\n      <td>-0.111126</td>\n      <td>-0.144127</td>\n    </tr>\n    <tr>\n      <th>2</th>\n      <td>15.701783</td>\n      <td>-0.465250</td>\n      <td>-0.124890</td>\n      <td>-0.484999</td>\n      <td>0.0</td>\n      <td>1.0</td>\n      <td>0.0</td>\n      <td>-0.458834</td>\n      <td>-0.171813</td>\n      <td>-0.524561</td>\n      <td>-0.380601</td>\n      <td>-0.443863</td>\n      <td>-0.609149</td>\n      <td>-0.412642</td>\n      <td>-0.480057</td>\n      <td>-0.485687</td>\n      <td>-0.507267</td>\n      <td>-0.626721</td>\n      <td>-0.328115</td>\n    </tr>\n    <tr>\n      <th>3</th>\n      <td>16.173566</td>\n      <td>-0.438231</td>\n      <td>-0.236165</td>\n      <td>-0.679189</td>\n      <td>1.0</td>\n      <td>0.0</td>\n      <td>0.0</td>\n      <td>0.796200</td>\n      <td>-0.171813</td>\n      <td>0.600953</td>\n      <td>-0.820279</td>\n      <td>-0.443863</td>\n      <td>-0.284631</td>\n      <td>0.082979</td>\n      <td>-0.283104</td>\n      <td>-0.485687</td>\n      <td>-0.459459</td>\n      <td>-0.652501</td>\n      <td>1.507161</td>\n    </tr>\n    <tr>\n      <th>4</th>\n      <td>15.063250</td>\n      <td>-0.370684</td>\n      <td>2.071921</td>\n      <td>0.250085</td>\n      <td>0.0</td>\n      <td>0.0</td>\n      <td>1.0</td>\n      <td>-0.999502</td>\n      <td>-0.171813</td>\n      <td>-0.631362</td>\n      <td>-1.043399</td>\n      <td>-0.443863</td>\n      <td>-0.697654</td>\n      <td>-0.957826</td>\n      <td>-0.480057</td>\n      <td>-0.565112</td>\n      <td>-0.794114</td>\n      <td>-0.729840</td>\n      <td>-1.068665</td>\n    </tr>\n    <tr>\n      <th>...</th>\n      <td>...</td>\n      <td>...</td>\n      <td>...</td>\n      <td>...</td>\n      <td>...</td>\n      <td>...</td>\n      <td>...</td>\n      <td>...</td>\n      <td>...</td>\n      <td>...</td>\n      <td>...</td>\n      <td>...</td>\n      <td>...</td>\n      <td>...</td>\n      <td>...</td>\n      <td>...</td>\n      <td>...</td>\n      <td>...</td>\n      <td>...</td>\n    </tr>\n    <tr>\n      <th>95</th>\n      <td>13.947375</td>\n      <td>-0.262608</td>\n      <td>-0.234291</td>\n      <td>-0.244348</td>\n      <td>1.0</td>\n      <td>0.0</td>\n      <td>0.0</td>\n      <td>-0.549353</td>\n      <td>-0.171813</td>\n      <td>-0.467053</td>\n      <td>-0.715281</td>\n      <td>-0.443863</td>\n      <td>-0.402637</td>\n      <td>-0.511767</td>\n      <td>0.138939</td>\n      <td>-0.485687</td>\n      <td>-0.794114</td>\n      <td>-0.343144</td>\n      <td>-0.558099</td>\n    </tr>\n    <tr>\n      <th>96</th>\n      <td>15.743103</td>\n      <td>-0.357174</td>\n      <td>-0.033775</td>\n      <td>-0.438670</td>\n      <td>0.0</td>\n      <td>0.0</td>\n      <td>1.0</td>\n      <td>-0.395226</td>\n      <td>-0.171813</td>\n      <td>-0.565639</td>\n      <td>-0.636533</td>\n      <td>-0.443863</td>\n      <td>-0.697654</td>\n      <td>-0.214394</td>\n      <td>-0.480057</td>\n      <td>-0.326836</td>\n      <td>0.974778</td>\n      <td>-0.446263</td>\n      <td>-0.249920</td>\n    </tr>\n    <tr>\n      <th>97</th>\n      <td>16.187371</td>\n      <td>-0.262608</td>\n      <td>-0.611464</td>\n      <td>-0.244348</td>\n      <td>0.0</td>\n      <td>0.0</td>\n      <td>1.0</td>\n      <td>1.598638</td>\n      <td>-0.171813</td>\n      <td>1.430712</td>\n      <td>1.771854</td>\n      <td>2.524708</td>\n      <td>0.924937</td>\n      <td>0.975098</td>\n      <td>2.389832</td>\n      <td>-0.009135</td>\n      <td>2.169976</td>\n      <td>1.693459</td>\n      <td>1.240379</td>\n    </tr>\n    <tr>\n      <th>98</th>\n      <td>16.017446</td>\n      <td>-0.357174</td>\n      <td>-0.138343</td>\n      <td>-0.438670</td>\n      <td>1.0</td>\n      <td>0.0</td>\n      <td>0.0</td>\n      <td>-0.299814</td>\n      <td>-0.171813</td>\n      <td>-0.319175</td>\n      <td>0.223137</td>\n      <td>-0.443863</td>\n      <td>-0.078119</td>\n      <td>0.429915</td>\n      <td>-0.311240</td>\n      <td>-0.088560</td>\n      <td>-0.268227</td>\n      <td>-0.368923</td>\n      <td>-0.213123</td>\n    </tr>\n    <tr>\n      <th>99</th>\n      <td>14.450352</td>\n      <td>-0.235589</td>\n      <td>-0.367964</td>\n      <td>-0.579673</td>\n      <td>0.0</td>\n      <td>0.0</td>\n      <td>1.0</td>\n      <td>-0.326725</td>\n      <td>-0.129245</td>\n      <td>-0.310960</td>\n      <td>-0.085294</td>\n      <td>-0.443863</td>\n      <td>-0.284631</td>\n      <td>0.578601</td>\n      <td>0.026394</td>\n      <td>-0.326836</td>\n      <td>0.879163</td>\n      <td>-0.549382</td>\n      <td>-0.512102</td>\n    </tr>\n  </tbody>\n</table>\n<p>100 rows × 19 columns</p>\n</div>"
     },
     "execution_count": 3,
     "metadata": {},
     "output_type": "execute_result"
    }
   ],
   "source": [
    "realty_type_categories = ['realty_type_10', 'realty_type_100', 'realty_type_110']\n",
    "points_types = ['amenity_points', 'building_points', 'catering_points', 'crossing_points', 'culture_points',\n",
    "                'finance_points', 'healthcare_points', 'historic_points', 'hotels_points', 'leisure_points',\n",
    "                'offices_points', 'shops_points']\n",
    "\n",
    "columns = ['per_square_meter_price', 'city', 'osm_city_closest_dist', 'osm_city_nearest_population'] + realty_type_categories + points_types\n",
    "\n",
    "df = df0[columns]\n",
    "\n",
    "target_col = 'per_square_meter_price'\n",
    "columns_to_scale = ['city', 'osm_city_closest_dist', 'osm_city_nearest_population'] + points_types\n",
    "df[columns_to_scale] = StandardScaler().fit_transform(df[columns_to_scale])\n",
    "\n",
    "df.head(100)"
   ],
   "metadata": {
    "collapsed": false
   }
  },
  {
   "cell_type": "code",
   "execution_count": 4,
   "outputs": [
    {
     "name": "stdout",
     "output_type": "stream",
     "text": [
      "0.8161135637166731\n",
      "0.9353897212811146\n"
     ]
    }
   ],
   "source": [
    "mape_mean = 0\n",
    "baseline_mean = 0\n",
    "n = 50\n",
    "for _ in range(n):\n",
    "       train, test = train_test_split(df, test_size=0.5)\n",
    "\n",
    "       baseline = pd.Series([train.per_square_meter_price.mean()] * len(test))\n",
    "\n",
    "       train_x, train_y = train.drop(target_col, axis=1), train[target_col]\n",
    "       test_x, test_y = test.drop(target_col, axis=1), test[target_col]\n",
    "\n",
    "       model = LinearRegression()\n",
    "       model.fit(train_x, train_y)\n",
    "\n",
    "       pred = model.predict(test_x)\n",
    "       mape_mean += mean_absolute_percentage_error(2**test_y, 2**pred)\n",
    "       baseline_mean += mean_absolute_percentage_error(2 ** test_y, 2 ** baseline)\n",
    "print(mape_mean / n)\n",
    "print(baseline_mean / n)"
   ],
   "metadata": {
    "collapsed": false
   }
  },
  {
   "cell_type": "markdown",
   "source": [
    "### Forecasting"
   ],
   "metadata": {
    "collapsed": false
   }
  },
  {
   "cell_type": "code",
   "execution_count": 5,
   "outputs": [
    {
     "name": "stdout",
     "output_type": "stream",
     "text": [
      "     city  floor          id        lat        lng  osm_city_closest_dist  \\\n",
      "id                                                                          \n",
      "2       2    1.0  COL_132045  57.969273  56.152996               7.507584   \n",
      "11     10    NaN  COL_136461  56.827890  60.587486               1.775469   \n",
      "19     16    NaN  COL_218874  56.359160  43.864070               9.244353   \n",
      "25     19    NaN  COL_101246  59.906307  29.066545              69.756052   \n",
      "35     24    NaN  COL_274779  54.762985  55.995296               5.119798   \n",
      "..    ...    ...         ...        ...        ...                    ...   \n",
      "337    42    NaN  COL_217323  55.031635  82.935990               0.885180   \n",
      "340    51    NaN  COL_177017  56.054040  92.957140               7.256067   \n",
      "342    24    NaN  COL_147726  54.673462  56.087692              10.748511   \n",
      "346    36    1.0  COL_165088  47.225647  39.741226               2.300941   \n",
      "348    24    NaN  COL_219434  54.742493  55.997310               3.679824   \n",
      "\n",
      "    osm_city_nearest_name  osm_city_nearest_population  \\\n",
      "id                                                       \n",
      "2                   Пермь                    1055397.0   \n",
      "11           Екатеринбург                    1468833.0   \n",
      "19        Нижний Новгород                    1252236.0   \n",
      "25        Санкт-Петербург                    5381736.0   \n",
      "35                    Уфа                    1128787.0   \n",
      "..                    ...                          ...   \n",
      "337           Новосибирск                    1625600.0   \n",
      "340            Красноярск                    1095286.0   \n",
      "342                   Уфа                    1128787.0   \n",
      "346        Ростов-на-Дону                    1114806.0   \n",
      "348                   Уфа                    1128787.0   \n",
      "\n",
      "     osm_crossing_closest_dist  osm_subway_closest_dist  ...  finance_points  \\\n",
      "id                                                       ...                   \n",
      "2                     0.066575               275.027247  ...              12   \n",
      "11                    0.263643                 1.174799  ...             204   \n",
      "19                    0.183155                 3.448656  ...             104   \n",
      "25                    0.278137                63.897471  ...              96   \n",
      "35                    0.451902               352.534060  ...              28   \n",
      "..                         ...                      ...  ...             ...   \n",
      "337                   0.216384                 1.343671  ...              68   \n",
      "340                   0.186491                 0.408420  ...              68   \n",
      "342                   1.441983               355.129532  ...               0   \n",
      "346                   0.042350               426.799310  ...              84   \n",
      "348                   0.211939               353.994058  ...             144   \n",
      "\n",
      "     healthcare_points  historic_points  hotels_points  leisure_points  \\\n",
      "id                                                                       \n",
      "2                   68                0              0              72   \n",
      "11                 368               56            136             188   \n",
      "19                  28              160             52               4   \n",
      "25                  16                4             12             220   \n",
      "35                  16               28              0              28   \n",
      "..                 ...              ...            ...             ...   \n",
      "337                108               16             28              28   \n",
      "340                  4               12             24              20   \n",
      "342                  0                0              0               0   \n",
      "346                164              244             28              96   \n",
      "348                 56                0              0              36   \n",
      "\n",
      "     offices_points  shops_points  realty_type_10  realty_type_100  \\\n",
      "id                                                                   \n",
      "2               104           568             0.0              1.0   \n",
      "11              244          2360             0.0              0.0   \n",
      "19               12           552             0.0              1.0   \n",
      "25                0           536             1.0              0.0   \n",
      "35               96           508             1.0              0.0   \n",
      "..              ...           ...             ...              ...   \n",
      "337             152          1160             0.0              1.0   \n",
      "340              20           240             1.0              0.0   \n",
      "342               0             0             0.0              0.0   \n",
      "346              64          1072             1.0              0.0   \n",
      "348              80           772             0.0              1.0   \n",
      "\n",
      "     realty_type_110  \n",
      "id                    \n",
      "2                0.0  \n",
      "11               1.0  \n",
      "19               0.0  \n",
      "25               0.0  \n",
      "35               0.0  \n",
      "..               ...  \n",
      "337              0.0  \n",
      "340              0.0  \n",
      "342              1.0  \n",
      "346              0.0  \n",
      "348              0.0  \n",
      "\n",
      "[100 rows x 45 columns]\n",
      "(21554, 45)\n"
     ]
    }
   ],
   "source": [
    "df0 = pd.read_csv('./data/test/population_gt_1M.csv')\n",
    "df0.set_index('Unnamed: 0', inplace=True)\n",
    "df0.index.name='id'\n",
    "print(df0.head(100))\n",
    "print(df0.shape)"
   ],
   "metadata": {
    "collapsed": false
   }
  },
  {
   "cell_type": "code",
   "execution_count": 6,
   "outputs": [
    {
     "name": "stdout",
     "output_type": "stream",
     "text": [
      "         city  osm_city_closest_dist  osm_city_nearest_population  \\\n",
      "id                                                                  \n",
      "2   -0.357748              -0.158850                    -0.508461   \n",
      "11  -0.335507              -0.350401                     0.273311   \n",
      "19  -0.318826              -0.100813                    -0.136255   \n",
      "25  -0.310485               1.921313                     7.672282   \n",
      "35  -0.296585              -0.238643                    -0.369687   \n",
      "..        ...                    ...                          ...   \n",
      "337 -0.246542              -0.380152                     0.569745   \n",
      "340 -0.221521              -0.167255                    -0.433034   \n",
      "342 -0.296585              -0.050548                    -0.369687   \n",
      "346 -0.263223              -0.332841                    -0.396124   \n",
      "348 -0.296585              -0.286763                    -0.369687   \n",
      "\n",
      "     realty_type_10  realty_type_100  realty_type_110  amenity_points  \\\n",
      "id                                                                      \n",
      "2               0.0              1.0              0.0       -0.453048   \n",
      "11              0.0              0.0              1.0        1.563181   \n",
      "19              0.0              1.0              0.0       -0.333730   \n",
      "25              1.0              0.0              0.0       -0.353211   \n",
      "35              1.0              0.0              0.0       -0.569931   \n",
      "..              ...              ...              ...             ...   \n",
      "337             0.0              1.0              0.0        0.116756   \n",
      "340             1.0              0.0              0.0       -0.638112   \n",
      "342             0.0              0.0              1.0       -0.979021   \n",
      "346             1.0              0.0              0.0        0.511235   \n",
      "348             0.0              1.0              0.0       -0.238763   \n",
      "\n",
      "     building_points  catering_points  crossing_points  culture_points  \\\n",
      "id                                                                       \n",
      "2          -0.172241        -0.381906        -0.039413       -0.403341   \n",
      "11         -0.150537         0.974414         0.698864        0.926796   \n",
      "19         -0.172241        -0.248770        -0.123603       -0.346739   \n",
      "25         -0.172241        -0.440153        -0.343791       -0.431641   \n",
      "35         -0.070957        -0.523363        -0.654645       -0.431641   \n",
      "..               ...              ...              ...             ...   \n",
      "337        -0.172241         0.158958        -0.285506       -0.233536   \n",
      "340        -0.172241        -0.448474        -0.253125        0.162675   \n",
      "342        -0.172241        -0.614894        -1.017307       -0.431641   \n",
      "346        -0.172241         0.267130         1.074479        1.351308   \n",
      "348        -0.172241        -0.165561        -0.589884       -0.431641   \n",
      "\n",
      "     finance_points  healthcare_points  historic_points  hotels_points  \\\n",
      "id                                                                       \n",
      "2         -0.592605          -0.079875        -0.475661      -0.553906   \n",
      "11         0.839266           3.638235        -0.073410       2.180902   \n",
      "19         0.093500          -0.575623         0.673627       0.491756   \n",
      "25         0.033839          -0.724348        -0.446929      -0.312599   \n",
      "35        -0.473282          -0.724348        -0.274535      -0.553906   \n",
      "..              ...                ...              ...            ...   \n",
      "337       -0.174976           0.415873        -0.360732       0.009143   \n",
      "340       -0.174976          -0.873072        -0.389464      -0.071293   \n",
      "342       -0.682096          -0.922647        -0.475661      -0.553906   \n",
      "346       -0.055653           1.109920         1.277003       0.009143   \n",
      "348        0.391806          -0.228600        -0.475661      -0.553906   \n",
      "\n",
      "     leisure_points  offices_points  shops_points  \n",
      "id                                                 \n",
      "2          0.095103       -0.044390     -0.407379  \n",
      "11         1.488671        0.840481      1.622243  \n",
      "19        -0.721817       -0.625876     -0.425500  \n",
      "25         1.873103       -0.701722     -0.443622  \n",
      "35        -0.433492       -0.094954     -0.475335  \n",
      "..              ...             ...           ...  \n",
      "337       -0.433492        0.258995      0.263121  \n",
      "340       -0.529600       -0.575312     -0.778872  \n",
      "342       -0.769871       -0.701722     -1.050696  \n",
      "346        0.383427       -0.297210      0.163452  \n",
      "348       -0.337384       -0.196082     -0.176328  \n",
      "\n",
      "[100 rows x 18 columns]\n",
      "(21554, 18)\n"
     ]
    },
    {
     "name": "stderr",
     "output_type": "stream",
     "text": [
      "C:\\Users\\super\\AppData\\Local\\Temp\\ipykernel_3288\\887400710.py:5: SettingWithCopyWarning: \n",
      "A value is trying to be set on a copy of a slice from a DataFrame.\n",
      "Try using .loc[row_indexer,col_indexer] = value instead\n",
      "\n",
      "See the caveats in the documentation: https://pandas.pydata.org/pandas-docs/stable/user_guide/indexing.html#returning-a-view-versus-a-copy\n",
      "  df[columns_to_scale] = StandardScaler().fit_transform(df[columns_to_scale])\n"
     ]
    }
   ],
   "source": [
    "columns.remove('per_square_meter_price') if 'per_square_meter_price' in columns else ''\n",
    "df = df0[columns]\n",
    "\n",
    "columns_to_scale = ['city', 'osm_city_closest_dist', 'osm_city_nearest_population'] + points_types\n",
    "df[columns_to_scale] = StandardScaler().fit_transform(df[columns_to_scale])\n",
    "\n",
    "print(df.head(100))\n",
    "print(df.shape)"
   ],
   "metadata": {
    "collapsed": false
   }
  },
  {
   "cell_type": "code",
   "execution_count": 7,
   "outputs": [
    {
     "name": "stdout",
     "output_type": "stream",
     "text": [
      "     per_square_meter_price\n",
      "id                         \n",
      "2                 15.424194\n",
      "11                16.596680\n",
      "19                15.546143\n",
      "25                16.619873\n",
      "35                15.201294\n",
      "..                      ...\n",
      "337               15.719238\n",
      "340               15.227661\n",
      "342               15.473877\n",
      "346               15.636841\n",
      "348               15.515991\n",
      "\n",
      "[100 rows x 1 columns]\n"
     ]
    }
   ],
   "source": [
    "pred = model.predict(df)\n",
    "\n",
    "res = pd.DataFrame(data=pred, columns=[target_col])\n",
    "res['id'] = df0.index.tolist()\n",
    "res.set_index('id', inplace=True)\n",
    "\n",
    "print(res.head(100))\n",
    "res.to_csv('./data/forecast/population_gt_1M.csv')"
   ],
   "metadata": {
    "collapsed": false
   }
  }
 ],
 "metadata": {
  "kernelspec": {
   "display_name": "Python 3",
   "language": "python",
   "name": "python3"
  },
  "language_info": {
   "codemirror_mode": {
    "name": "ipython",
    "version": 2
   },
   "file_extension": ".py",
   "mimetype": "text/x-python",
   "name": "python",
   "nbconvert_exporter": "python",
   "pygments_lexer": "ipython2",
   "version": "2.7.6"
  }
 },
 "nbformat": 4,
 "nbformat_minor": 0
}
